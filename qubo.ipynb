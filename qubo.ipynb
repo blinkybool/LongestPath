{
 "cells": [
  {
   "cell_type": "code",
   "execution_count": 1,
   "id": "447c4ec2-297d-4d9f-9c52-934136268a73",
   "metadata": {},
   "outputs": [],
   "source": [
    "from pyqubo import Binary, Array, Num\n",
    "import numpy as np\n",
    "from dimod import ExactSolver\n",
    "import neal\n",
    "from gen import gen_average_degree_directed, gen_planted_path, StandardGraph"
   ]
  },
  {
   "cell_type": "code",
   "execution_count": 2,
   "id": "a666e07c-11cf-432d-bbe2-15f0ec992189",
   "metadata": {},
   "outputs": [],
   "source": [
    "graph = StandardGraph(5, [\n",
    "\t(0,1),\n",
    "\t(1,3),\n",
    "\t(3,4),\n",
    "\t(1,2),\n",
    "])\n",
    "\n",
    "# max length\n",
    "N = graph.vertices\n",
    "M = 3\n",
    "\n",
    "p = M+1\n",
    "\n",
    "matrix = graph.to_matrix()"
   ]
  },
  {
   "cell_type": "code",
   "execution_count": 4,
   "id": "185adebc-2d8c-4104-9696-dcb1bbb6f99d",
   "metadata": {},
   "outputs": [],
   "source": [
    "vars = Array.create('x', shape=(M+1, N+1), vartype='BINARY')\n",
    "\n",
    "serial_exp = Num(-p) * sum([(sum(block) - Num(1))**2 for block in vars]) + Num(0)\n",
    "\n",
    "no_repeat_blocks_exp = Num(0)\n",
    "\n",
    "for i in range(N):\n",
    "\tfor j in range(M+1):\n",
    "\t\tfor k in range(j+1, M+1):\n",
    "\t\t\tno_repeat_blocks_exp += vars[j][i] * vars[k][i] * Num(-p)\n",
    "\n",
    "edges_exp = Num(0)\n",
    "\n",
    "for m in range(M):\n",
    "\tfor i in range(N):\n",
    "\t\tfor j in range(N):\n",
    "\t\t\tif i == j:\n",
    "\t\t\t\tcontinue\n",
    "\n",
    "\t\t\tif matrix[i][j]:\n",
    "\t\t\t\tedges_exp += vars[m][i] * vars[m+1][j]\n",
    "\t\t\telse:\n",
    "\t\t\t\tedges_exp += Num(-p) * vars[m][i] * vars[m+1][j]\n",
    "\n",
    "for m in range(M):\n",
    "\tfor i in range(N):\n",
    "\t\tedges_exp += vars[m][i] * vars[m+1][N]"
   ]
  },
  {
   "cell_type": "code",
   "execution_count": 5,
   "id": "ed7d8f04-3f97-422a-9756-763e73770417",
   "metadata": {},
   "outputs": [
    {
     "name": "stdout",
     "output_type": "stream",
     "text": [
      "[[ 0 -4 -4 -4  0  0  0  0  0  0  0  0  0  0  0  0  0  0  0  0  0  0  0  0]\n",
      " [ 0  0 -4 -4  0  0  0  0  0  0  0  0  0  0  0  0  0  0  0  0  0  0  0  0]\n",
      " [ 0  0  0 -4  0  0  0  0  0  0  0  0  0  0  0  0  0  0  0  0  0  0  0  0]\n",
      " [ 0  0  0  0  0  0  0  0  0  0  0  0  0  0  0  0  0  0  0  0  0  0  0  0]\n",
      " [ 0  0  0  0  0 -4 -4 -4  0  0  0  0  0  0  0  0  0  0  0  0  0  0  0  0]\n",
      " [ 0  0  0  0  0  0 -4 -4  0  0  0  0  0  0  0  0  0  0  0  0  0  0  0  0]\n",
      " [ 0  0  0  0  0  0  0 -4  0  0  0  0  0  0  0  0  0  0  0  0  0  0  0  0]\n",
      " [ 0  0  0  0  0  0  0  0  0  0  0  0  0  0  0  0  0  0  0  0  0  0  0  0]\n",
      " [ 0  0  0  0  0  0  0  0  0 -4 -4 -4  0  0  0  0  0  0  0  0  0  0  0  0]\n",
      " [ 0  0  0  0  0  0  0  0  0  0 -4 -4  0  0  0  0  0  0  0  0  0  0  0  0]\n",
      " [ 0  0  0  0  0  0  0  0  0  0  0 -4  0  0  0  0  0  0  0  0  0  0  0  0]\n",
      " [ 0  0  0  0  0  0  0  0  0  0  0  0  0  0  0  0  0  0  0  0  0  0  0  0]\n",
      " [ 0  0  0  0  0  0  0  0  0  0  0  0  0 -4 -4 -4  0  0  0  0  0  0  0  0]\n",
      " [ 0  0  0  0  0  0  0  0  0  0  0  0  0  0 -4 -4  0  0  0  0  0  0  0  0]\n",
      " [ 0  0  0  0  0  0  0  0  0  0  0  0  0  0  0 -4  0  0  0  0  0  0  0  0]\n",
      " [ 0  0  0  0  0  0  0  0  0  0  0  0  0  0  0  0  0  0  0  0  0  0  0  0]\n",
      " [ 0  0  0  0  0  0  0  0  0  0  0  0  0  0  0  0  0 -4 -4 -4  0  0  0  0]\n",
      " [ 0  0  0  0  0  0  0  0  0  0  0  0  0  0  0  0  0  0 -4 -4  0  0  0  0]\n",
      " [ 0  0  0  0  0  0  0  0  0  0  0  0  0  0  0  0  0  0  0 -4  0  0  0  0]\n",
      " [ 0  0  0  0  0  0  0  0  0  0  0  0  0  0  0  0  0  0  0  0  0  0  0  0]\n",
      " [ 0  0  0  0  0  0  0  0  0  0  0  0  0  0  0  0  0  0  0  0  0  0  0  0]\n",
      " [ 0  0  0  0  0  0  0  0  0  0  0  0  0  0  0  0  0  0  0  0  0  0  0  0]\n",
      " [ 0  0  0  0  0  0  0  0  0  0  0  0  0  0  0  0  0  0  0  0  0  0  0  0]\n",
      " [ 0  0  0  0  0  0  0  0  0  0  0  0  0  0  0  0  0  0  0  0  0  0  0  0]]\n"
     ]
    }
   ],
   "source": [
    "def to_matrix(exp):\n",
    "\tmodel = exp.compile()\n",
    "\tqubo, energy_offset = model.to_qubo(index_label=True)\n",
    "\n",
    "\treturn np.matrix([[int(qubo.get((i,j), 0)) for j in range((M+1)*(N+1))] for i in range((M+1)*(N+1))])\n",
    "\n",
    "total_exp = serial_exp + no_repeat_blocks_exp + edges_exp\n",
    "# model = total_exp.compile()\n",
    "# bqm = model.to_bqm()\n",
    "\n",
    "print(to_matrix(no_repeat_blocks_exp))\n",
    "\n",
    "\n",
    "# sa = neal.SimulatedAnnealingSampler()\n",
    "# sampleset = sa.sample(bqm, num_reads=100)\n",
    "# decoded_samples = model.decode_sampleset(sampleset)\n",
    "# best_sample = min(decoded_samples, key=lambda x: x.energy)\n",
    "# print(best_sample.energy)\n",
    "\n",
    "# sampleset = ExactSolver().sample(bqm)\n",
    "# decoded_samples = model.decode_sampleset(sampleset)\n",
    "# best_sample = max(decoded_samples, key=lambda s: s.energy)\n",
    "# print(best_sample.energy)"
   ]
  },
  {
   "cell_type": "code",
   "execution_count": null,
   "id": "af68afde-d389-436f-8d7e-9b3d76cfeb6f",
   "metadata": {},
   "outputs": [],
   "source": []
  }
 ],
 "metadata": {
  "kernelspec": {
   "display_name": "TNO ipython kernel",
   "language": "python",
   "name": "tno-kernel"
  },
  "language_info": {
   "codemirror_mode": {
    "name": "ipython",
    "version": 3
   },
   "file_extension": ".py",
   "mimetype": "text/x-python",
   "name": "python",
   "nbconvert_exporter": "python",
   "pygments_lexer": "ipython3",
   "version": "3.10.13"
  }
 },
 "nbformat": 4,
 "nbformat_minor": 5
}
