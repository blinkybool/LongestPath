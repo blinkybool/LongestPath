{
 "cells": [
  {
   "cell_type": "code",
   "execution_count": 20,
   "metadata": {},
   "outputs": [
    {
     "ename": "ImportError",
     "evalue": "attempted relative import with no known parent package",
     "output_type": "error",
     "traceback": [
      "\u001b[0;31m---------------------------------------------------------------------------\u001b[0m",
      "\u001b[0;31mImportError\u001b[0m                               Traceback (most recent call last)",
      "Cell \u001b[0;32mIn[20], line 3\u001b[0m\n\u001b[1;32m      1\u001b[0m \u001b[38;5;28;01mimport\u001b[39;00m \u001b[38;5;21;01mpandas\u001b[39;00m \u001b[38;5;28;01mas\u001b[39;00m \u001b[38;5;21;01mpd\u001b[39;00m\n\u001b[1;32m      2\u001b[0m \u001b[38;5;28;01mimport\u001b[39;00m \u001b[38;5;21;01mre\u001b[39;00m\n\u001b[0;32m----> 3\u001b[0m \u001b[38;5;28;01mfrom\u001b[39;00m \u001b[38;5;21;01m.\u001b[39;00m\u001b[38;5;21;01m.\u001b[39;00m\u001b[38;5;21;01m.\u001b[39;00m \u001b[38;5;28;01mimport\u001b[39;00m kalp\n",
      "\u001b[0;31mImportError\u001b[0m: attempted relative import with no known parent package"
     ]
    }
   ],
   "source": [
    "import pandas as pd\n",
    "import re"
   ]
  },
  {
   "cell_type": "code",
   "execution_count": 2,
   "metadata": {},
   "outputs": [],
   "source": [
    "df = pd.read_excel(\"network.xlsx\",\n",
    "\t\t\t\t\t\t\t\t\t header=None,\n",
    "\t\t\t\t\t\t\t\t\t names = [\"first\", \"middle\", \"last\"]).fillna(\"\")\n",
    "\n",
    "df['title'] = df.apply(lambda row: ' '.join(row), axis=1)"
   ]
  },
  {
   "cell_type": "code",
   "execution_count": 3,
   "metadata": {},
   "outputs": [],
   "source": [
    "with open(\"rob-top2000-labels.txt\", \"w\") as f:\n",
    "\tf.write(\"\\n\".join(df['title']))\n",
    "\n",
    "labelled_edges = []\n",
    "\n",
    "for i, src in df.iterrows():\n",
    "\tlinking_word = src['last']\n",
    "\ttargets = df[df['first'] == linking_word]\n",
    "\tfor j, tar in targets.iterrows():\n",
    "\t\tlabelled_edges.append(((i, src['title']), (j, tar['title'])))\n",
    "\n",
    "with open(\"rob-top2000-graph.txt\", \"w\") as f:\n",
    "\tf.write(str(len(df['title'])) + \"\\n\")\n",
    "\n",
    "\tfor (i, _), (j, _) in labelled_edges:\n",
    "\t\tf.write(f'{i} {j}\\n')\n",
    "\n",
    "with open(\"rob-top2000-labelled-edges.txt\", \"w\") as f:\n",
    "\tfor (i, src_title), (j, tar_title) in labelled_edges:\n",
    "\t\tf.write(f\"{src_title} -> {tar_title} ({i} -> {j})\\n\")"
   ]
  },
  {
   "cell_type": "code",
   "execution_count": 12,
   "metadata": {},
   "outputs": [
    {
     "data": {
      "text/plain": [
       "(3438, 1000, 991, 1982)"
      ]
     },
     "execution_count": 12,
     "metadata": {},
     "output_type": "execute_result"
    }
   ],
   "source": [
    "undirected_edges = {frozenset([i, j]) for (i, _), (j, _) in labelled_edges[:1000]}\n",
    "undirected_edges_list = [tuple(e) for e in undirected_edges if len(e) > 1]\n",
    "\n",
    "directed_undirected_edges_list = undirected_edges_list + [(t, s) for (s, t) in undirected_edges_list]\n",
    "\n",
    "len(labelled_edges), len(undirected_edges), len(undirected_edges_list), len(directed_undirected_edges_list)"
   ]
  },
  {
   "cell_type": "code",
   "execution_count": 13,
   "metadata": {},
   "outputs": [],
   "source": [
    "with open(\"rob-top2000-KALP.dimacs\", \"w\") as f:\n",
    "    f.write(f\"p sp {len(df[\"title\"])} {len(directed_undirected_edges_list)}\\n\")\n",
    "\n",
    "    for s, t in directed_undirected_edges_list:\n",
    "        f.write(f\"a {s + 1} {t + 1} 1\\n\")"
   ]
  },
  {
   "cell_type": "code",
   "execution_count": null,
   "metadata": {},
   "outputs": [],
   "source": []
  },
  {
   "cell_type": "code",
   "execution_count": 9,
   "metadata": {},
   "outputs": [
    {
     "name": "stderr",
     "output_type": "stream",
     "text": [
      "lpath: neighbours_graph.c:149: verify_path: Assertion `path->count > 0' failed.\n"
     ]
    },
    {
     "ename": "AttributeError",
     "evalue": "'NoneType' object has no attribute 'group'",
     "output_type": "error",
     "traceback": [
      "\u001b[0;31m---------------------------------------------------------------------------\u001b[0m",
      "\u001b[0;31mAttributeError\u001b[0m                            Traceback (most recent call last)",
      "Cell \u001b[0;32mIn[9], line 6\u001b[0m\n\u001b[1;32m      3\u001b[0m \u001b[38;5;28;01mwith\u001b[39;00m \u001b[38;5;28mopen\u001b[39m(\u001b[38;5;124m\"\u001b[39m\u001b[38;5;124mrob-top2000-graph.txt\u001b[39m\u001b[38;5;124m\"\u001b[39m, \u001b[38;5;124m\"\u001b[39m\u001b[38;5;124mr\u001b[39m\u001b[38;5;124m\"\u001b[39m) \u001b[38;5;28;01mas\u001b[39;00m f:\n\u001b[1;32m      4\u001b[0m \tresult \u001b[38;5;241m=\u001b[39m subprocess\u001b[38;5;241m.\u001b[39mrun([\u001b[38;5;124m'\u001b[39m\u001b[38;5;124m../../lpath\u001b[39m\u001b[38;5;124m'\u001b[39m,\u001b[38;5;124m'\u001b[39m\u001b[38;5;124mDFBNB\u001b[39m\u001b[38;5;124m'\u001b[39m], stdin\u001b[38;5;241m=\u001b[39mf, stdout\u001b[38;5;241m=\u001b[39msubprocess\u001b[38;5;241m.\u001b[39mPIPE, text\u001b[38;5;241m=\u001b[39m\u001b[38;5;28;01mTrue\u001b[39;00m)\n\u001b[0;32m----> 6\u001b[0m path \u001b[38;5;241m=\u001b[39m \u001b[38;5;28mlist\u001b[39m(\u001b[38;5;28mmap\u001b[39m(\u001b[38;5;28mint\u001b[39m, \u001b[43mre\u001b[49m\u001b[38;5;241;43m.\u001b[39;49m\u001b[43msearch\u001b[49m\u001b[43m(\u001b[49m\u001b[38;5;124;43mr\u001b[39;49m\u001b[38;5;124;43m'\u001b[39;49m\u001b[38;5;124;43mLongest path: (.+)\u001b[39;49m\u001b[38;5;124;43m\\\u001b[39;49m\u001b[38;5;124;43ms\u001b[39;49m\u001b[38;5;124;43m'\u001b[39;49m\u001b[43m,\u001b[49m\u001b[43m \u001b[49m\u001b[43mresult\u001b[49m\u001b[38;5;241;43m.\u001b[39;49m\u001b[43mstdout\u001b[49m\u001b[43m)\u001b[49m\u001b[38;5;241;43m.\u001b[39;49m\u001b[43mgroup\u001b[49m(\u001b[38;5;241m1\u001b[39m)\u001b[38;5;241m.\u001b[39msplit()))\n\u001b[1;32m      7\u001b[0m titles \u001b[38;5;241m=\u001b[39m [df\u001b[38;5;241m.\u001b[39miloc[i][\u001b[38;5;124m'\u001b[39m\u001b[38;5;124mtitle\u001b[39m\u001b[38;5;124m'\u001b[39m] \u001b[38;5;28;01mfor\u001b[39;00m i \u001b[38;5;129;01min\u001b[39;00m path]\n\u001b[1;32m      9\u001b[0m \u001b[38;5;28mprint\u001b[39m(result\u001b[38;5;241m.\u001b[39mstdout)\n",
      "\u001b[0;31mAttributeError\u001b[0m: 'NoneType' object has no attribute 'group'"
     ]
    }
   ],
   "source": [
    "import subprocess\n",
    "\n",
    "with open(\"rob-top2000-graph.txt\", \"r\") as f:\n",
    "\tresult = subprocess.run(['../../lpath','DFBNB'], stdin=f, stdout=subprocess.PIPE, text=True)\n",
    "\n",
    "path = list(map(int, re.search(r'Longest path: (.+)\\s', result.stdout).group(1).split()))\n",
    "titles = [df.iloc[i]['title'] for i in path]\n",
    "\n",
    "print(result.stdout)\n",
    "print('\\n'.join(titles))"
   ]
  },
  {
   "cell_type": "code",
   "execution_count": null,
   "metadata": {},
   "outputs": [],
   "source": [
    "import subprocess\n",
    "\n",
    "with open(\"top2000-graph.txt\", \"r\") as f:\n",
    "\tresult = subprocess.run(['../../lpath','DFBNB'], stdin=f, stdout=subprocess.PIPE, text=True)\n",
    "\n",
    "print(result.stdout)\n",
    "\n",
    "\n",
    "# Depth first Branch and Bound takes longer"
   ]
  },
  {
   "cell_type": "code",
   "execution_count": null,
   "metadata": {},
   "outputs": [],
   "source": []
  }
 ],
 "metadata": {
  "kernelspec": {
   "display_name": "venv",
   "language": "python",
   "name": "python3"
  },
  "language_info": {
   "codemirror_mode": {
    "name": "ipython",
    "version": 3
   },
   "file_extension": ".py",
   "mimetype": "text/x-python",
   "name": "python",
   "nbconvert_exporter": "python",
   "pygments_lexer": "ipython3",
   "version": "3.12.2"
  }
 },
 "nbformat": 4,
 "nbformat_minor": 2
}
