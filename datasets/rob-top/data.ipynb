{
 "cells": [
  {
   "cell_type": "code",
   "execution_count": 14,
   "metadata": {},
   "outputs": [],
   "source": [
    "import pandas as pd\n",
    "import re"
   ]
  },
  {
   "cell_type": "code",
   "execution_count": 18,
   "metadata": {},
   "outputs": [],
   "source": [
    "df = pd.read_excel(\"network.xlsx\",\n",
    "\t\t\t\t\t\t\t\t\t header=None,\n",
    "\t\t\t\t\t\t\t\t\t names = [\"first\", \"middle\", \"last\"]).fillna(\"\")\n",
    "\n",
    "df['title'] = df.apply(lambda row: ' '.join(row), axis=1)"
   ]
  },
  {
   "cell_type": "code",
   "execution_count": 19,
   "metadata": {},
   "outputs": [],
   "source": [
    "with open(\"rob-top2000-labels.txt\", \"w\") as f:\n",
    "\tf.write(\"\\n\".join(df['title']))\n",
    "\n",
    "labelled_edges = []\n",
    "\n",
    "for i, src in df.iterrows():\n",
    "\tlinking_word = src['last']\n",
    "\ttargets = df[df['first'] == linking_word]\n",
    "\tfor j, tar in targets.iterrows():\n",
    "\t\tlabelled_edges.append(((i, src['title']), (j, tar['title'])))\n",
    "\n",
    "with open(\"rob-top2000-graph.txt\", \"w\") as f:\n",
    "\tf.write(str(len(df['title'])) + \"\\n\")\n",
    "\n",
    "\tfor (i, _), (j, _) in labelled_edges:\n",
    "\t\tf.write(f'{i} {j}\\n')\n",
    "\n",
    "with open(\"rob-top2000-labelled-edges.txt\", \"w\") as f:\n",
    "\tfor (i, src_title), (j, tar_title) in labelled_edges:\n",
    "\t\tf.write(f\"{src_title} -> {tar_title} ({i} -> {j})\\n\")"
   ]
  },
  {
   "cell_type": "code",
   "execution_count": 20,
   "metadata": {},
   "outputs": [
    {
     "name": "stdout",
     "output_type": "stream",
     "text": [
      "Read graph. vertices: 1573, edges: 3438\n",
      "Search mode: BRUTE_FORCE\n",
      "Longest path length: 42\n",
      "Longest path: 939 827 549 331 1366 1149 513 880 858 1507 684 832 855 935 1220 1002 1054 1376 1569 1382 1438 1345 240 152 485 931 876 1570 988 298 780 1454 900 1126 564 1073 398 857 1271 610 851 1014 735 \n",
      "Time: 106.571098s\n",
      "\n",
      "Sign Of The Times\n",
      "Times Were When\n",
      "When Doves Cry\n",
      "Cry  Baby\n",
      "Baby Can I Hold You\n",
      "You Can't Hurry Love\n",
      "Love You More\n",
      "More Than This\n",
      "This Charming Man\n",
      "Man I Feel Like A Woman\n",
      "Woman In Love\n",
      "Love Is All\n",
      "All For Nothing\n",
      "Nothing Compares 2 You\n",
      "You 've Got The Love\n",
      "Love  Story\n",
      "Story Of My Life\n",
      "Life 's What You Make It\n",
      "It 's The End Of The World As We Know It\n",
      "It Must Have Been Love\n",
      "Love Really Hurts Without You\n",
      "You Need To Calm Down\n",
      "Down  Down\n",
      "Down  Under\n",
      "Under The Bridge\n",
      "Bridge Over Troubled Water\n",
      "Water Of Love\n",
      "Love Me Just A Little Bit More\n",
      "More Than A Feeling\n",
      "Feeling  Good\n",
      "Good 4 You\n",
      "You Shook Me All Night Long\n",
      "Long Train Running\n",
      "Running To Stand Still\n",
      "Still Loving You\n",
      "You Are So Beautiful\n",
      "Beautiful  Goodbye\n",
      "Goodbye My Lover\n",
      "Lover Of The Light\n",
      "Light My Fire\n",
      "Fire And Rain\n",
      "Rain Down On Me\n",
      "Me Gustas Tu\n"
     ]
    }
   ],
   "source": [
    "import subprocess\n",
    "\n",
    "with open(\"rob-top2000-graph.txt\", \"r\") as f:\n",
    "\tresult = subprocess.run(['../../lpath','DFBNB'], stdin=f, stdout=subprocess.PIPE, text=True)\n",
    "\n",
    "path = list(map(int, re.search(r'Longest path: (.+)\\s', result.stdout).group(1).split()))\n",
    "titles = [df.iloc[i]['title'] for i in path]\n",
    "\n",
    "print(result.stdout)\n",
    "print('\\n'.join(titles))"
   ]
  },
  {
   "cell_type": "code",
   "execution_count": 13,
   "metadata": {},
   "outputs": [
    {
     "name": "stdout",
     "output_type": "stream",
     "text": [
      "Read graph. vertices: 2000, edges: 3465\n",
      "Search mode: DFBNB\n",
      "Longest path length: 30\n",
      "Longest path: 114 1644 458 1359 1129 556 1831 1994 1045 1661 1344 1682 879 1040 670 100 77 1813 1915 880 1372 250 1819 1747 1079 1837 208 1922 120 814 1712 \n",
      "Time: 6.971052s\n",
      "\n"
     ]
    }
   ],
   "source": [
    "import subprocess\n",
    "\n",
    "with open(\"top2000-graph.txt\", \"r\") as f:\n",
    "\tresult = subprocess.run(['../../lpath','DFBNB'], stdin=f, stdout=subprocess.PIPE, text=True)\n",
    "\n",
    "print(result.stdout)\n",
    "\n",
    "\n",
    "# Depth first Branch and Bound takes longer"
   ]
  },
  {
   "cell_type": "code",
   "execution_count": null,
   "metadata": {},
   "outputs": [],
   "source": []
  }
 ],
 "metadata": {
  "kernelspec": {
   "display_name": "venv",
   "language": "python",
   "name": "python3"
  },
  "language_info": {
   "codemirror_mode": {
    "name": "ipython",
    "version": 3
   },
   "file_extension": ".py",
   "mimetype": "text/x-python",
   "name": "python",
   "nbconvert_exporter": "python",
   "pygments_lexer": "ipython3",
   "version": "3.9.6"
  }
 },
 "nbformat": 4,
 "nbformat_minor": 2
}
