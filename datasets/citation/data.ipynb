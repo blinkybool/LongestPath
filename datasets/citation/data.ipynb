{
 "cells": [
  {
   "cell_type": "code",
   "execution_count": 2,
   "metadata": {},
   "outputs": [],
   "source": [
    "%load_ext autoreload\n",
    "%autoreload 2\n",
    "# Enable imports form top-level of project (edit top_level_path accordingly)\n",
    "import os\n",
    "import sys\n",
    "top_level_path = os.path.abspath(os.path.join('..', '..'))\n",
    "if top_level_path not in sys.path:\n",
    "\tsys.path.append(top_level_path)"
   ]
  },
  {
   "cell_type": "code",
   "execution_count": 3,
   "metadata": {},
   "outputs": [],
   "source": [
    "from longestpath import StandardGraph"
   ]
  },
  {
   "cell_type": "code",
   "execution_count": 5,
   "metadata": {},
   "outputs": [],
   "source": [
    "label_to_vertex = {}\n",
    "vertices = 0\n",
    "edges = []\n",
    "\n",
    "with open(\"../source/Cit-HepTh.txt\", \"r\") as f:\n",
    "    for line in f.readlines():\n",
    "        if line.startswith(\"#\"):\n",
    "            continue\n",
    "        x, y = map(int, line.split())\n",
    "\n",
    "        if x in label_to_vertex:\n",
    "            i = label_to_vertex[x]\n",
    "        else:\n",
    "            i = vertices\n",
    "            label_to_vertex[x] = i\n",
    "            vertices += 1\n",
    "        \n",
    "        if y in label_to_vertex:\n",
    "            j = label_to_vertex[y]\n",
    "        else:\n",
    "            j = vertices\n",
    "            label_to_vertex[y] = j\n",
    "            vertices += 1\n",
    "\n",
    "        edges.append((i,j))\n",
    "\n",
    "graph = StandardGraph(vertices, edges)\n",
    "\n",
    "with open(\"citation-graph.txt\", \"w\") as f:\n",
    "    f.write(str(graph))"
   ]
  }
 ],
 "metadata": {
  "kernelspec": {
   "display_name": "venv",
   "language": "python",
   "name": "python3"
  },
  "language_info": {
   "codemirror_mode": {
    "name": "ipython",
    "version": 3
   },
   "file_extension": ".py",
   "mimetype": "text/x-python",
   "name": "python",
   "nbconvert_exporter": "python",
   "pygments_lexer": "ipython3",
   "version": "3.10.13"
  }
 },
 "nbformat": 4,
 "nbformat_minor": 2
}
