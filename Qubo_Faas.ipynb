{
 "cells": [
  {
   "cell_type": "code",
   "execution_count": 4,
   "metadata": {},
   "outputs": [],
   "source": [
    "from pyqubo import Binary, Array, Num\n",
    "import numpy as np\n",
    "from dimod import ExactSolver\n",
    "import neal\n",
    "import gen"
   ]
  },
  {
   "cell_type": "code",
   "execution_count": 5,
   "metadata": {},
   "outputs": [
    {
     "ename": "NameError",
     "evalue": "name 'StandardGraph' is not defined",
     "output_type": "error",
     "traceback": [
      "\u001b[1;31m---------------------------------------------------------------------------\u001b[0m",
      "\u001b[1;31mNameError\u001b[0m                                 Traceback (most recent call last)",
      "Input \u001b[1;32mIn [5]\u001b[0m, in \u001b[0;36m<module>\u001b[1;34m\u001b[0m\n\u001b[1;32m----> 1\u001b[0m graph \u001b[38;5;241m=\u001b[39m \u001b[43mStandardGraph\u001b[49m(\u001b[38;5;241m5\u001b[39m, [\n\u001b[0;32m      2\u001b[0m \t(\u001b[38;5;241m0\u001b[39m,\u001b[38;5;241m1\u001b[39m),\n\u001b[0;32m      3\u001b[0m     (\u001b[38;5;241m1\u001b[39m,\u001b[38;5;241m2\u001b[39m),\n\u001b[0;32m      4\u001b[0m     (\u001b[38;5;241m2\u001b[39m,\u001b[38;5;241m3\u001b[39m),\n\u001b[0;32m      5\u001b[0m     (\u001b[38;5;241m3\u001b[39m,\u001b[38;5;241m4\u001b[39m)\n\u001b[0;32m      6\u001b[0m ])\n\u001b[0;32m      8\u001b[0m \u001b[38;5;66;03m# graph = gen_average_degree_directed(6, 1)\u001b[39;00m\n\u001b[0;32m      9\u001b[0m \n\u001b[0;32m     10\u001b[0m \u001b[38;5;66;03m# max length\u001b[39;00m\n\u001b[0;32m     11\u001b[0m N \u001b[38;5;241m=\u001b[39m graph\u001b[38;5;241m.\u001b[39mvertices\n",
      "\u001b[1;31mNameError\u001b[0m: name 'StandardGraph' is not defined"
     ]
    }
   ],
   "source": [
    "graph = StandardGraph(5, [\n",
    "\t(0,1),\n",
    "    (1,2),\n",
    "    (2,3),\n",
    "    (3,4)\n",
    "])\n",
    "\n",
    "# graph = gen_average_degree_directed(6, 1)\n",
    "\n",
    "# max length\n",
    "N = graph.vertices\n",
    "M = N\n",
    "\n",
    "p = M+1\n",
    "\n",
    "matrix = graph.to_matrix()"
   ]
  },
  {
   "cell_type": "code",
   "execution_count": null,
   "metadata": {},
   "outputs": [],
   "source": [
    "vars = Array.create('x', shape=(M+1, N+1), vartype='BINARY')\n",
    "\n",
    "import time\n",
    "\n",
    "start = time.time()\n",
    "serial_exp = Num(-p) * sum([(sum(block) - Num(1))**2 for block in vars]) + Num(0)\n",
    "end = time.time()\n",
    "\n",
    "print(f\"Done with serial_exp : Took {end - start} seconds\")\n",
    "\n",
    "#Seems to output same matrix as below\n",
    "# serial_exp = Num(0)\n",
    "\n",
    "# for m in range(M+1):\n",
    "# \ttemp_exp = Num(-1)\n",
    "# \tfor n in range(N+1):\n",
    "# \t\ttemp_exp += vars[m][n]\n",
    "# \tserial_exp += Num(-p) * temp_exp ** 2\n",
    "\n",
    "no_repeat_blocks_exp = Num(0)\n",
    "\n",
    "start = time.time()\n",
    "\n",
    "for i in range(N):\n",
    "\tprint(f\"{i} / {N-1}\")\n",
    "\tfor j in range(M):\n",
    "\n",
    "\t\tno_repeat_blocks_exp += sum([vars[j][i] * vars[k][i] for k in range(j+1, M+1)])\n",
    "\n",
    "# \t\tfor k in range(j+1, M+1):\n",
    "# \t\t\tno_repeat_blocks_exp += vars[j][i] * vars[k][i] * Num(-p)\n",
    "no_repeat_blocks_exp *= Num(-p)\n",
    "\n",
    "end = time.time()\n",
    "\n",
    "print(f\"Done with no_repeatblocks_exp : Took {end - start} seconds\")\n",
    "\n",
    "start = time.time()\n",
    "edges_exp = Num(0)\n",
    "for m in range(M):\n",
    "\tfor i in range(N):\n",
    "\t\tfor j in range(N):\n",
    "\t\t\tif i == j:\n",
    "\t\t\t\tcontinue\n",
    "\t\t\t\n",
    "\t\t\tif matrix[i][j]:\n",
    "\t\t\t\tedges_exp += vars[m][i] * vars[m+1][j]\n",
    "\t\t\telse:\n",
    "\t\t\t\tedges_exp += Num(-p) * vars[m][i] * vars[m+1][j]\n",
    "\n",
    "for m in range(M):\n",
    "\tfor i in range(N):\n",
    "\t\tedges_exp += Num(-p) * vars[m][N] * vars[m+1][i]\n",
    "\n",
    "end = time.time()\n",
    "\n",
    "print(f\"Done with edges_exp : Took {end - start} seconds\")"
   ]
  }
 ],
 "metadata": {
  "kernelspec": {
   "display_name": "Python 3",
   "language": "python",
   "name": "python3"
  },
  "language_info": {
   "codemirror_mode": {
    "name": "ipython",
    "version": 3
   },
   "file_extension": ".py",
   "mimetype": "text/x-python",
   "name": "python",
   "nbconvert_exporter": "python",
   "pygments_lexer": "ipython3",
   "version": "3.10.11"
  }
 },
 "nbformat": 4,
 "nbformat_minor": 2
}
