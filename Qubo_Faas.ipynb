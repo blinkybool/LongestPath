{
 "cells": [
  {
   "cell_type": "code",
   "execution_count": 140,
   "metadata": {},
   "outputs": [],
   "source": [
    "from pyqubo import Binary, Array, Num\n",
    "import numpy as np\n",
    "from dimod import ExactSolver\n",
    "import neal\n",
    "from gen import gen_average_degree_directed, gen_planted_path, StandardGraph\n",
    "from typing import List, Tuple, Callable\n",
    "from math import log2, floor"
   ]
  },
  {
   "cell_type": "code",
   "execution_count": 141,
   "metadata": {},
   "outputs": [],
   "source": [
    "def make_tail_graph(graph : StandardGraph, tail_length : int) -> StandardGraph:\n",
    "\n",
    "\tif tail_length == 0:\n",
    "\t\ttail_graph = StandardGraph(0, [])\n",
    "\t\ttail_graph.vertices += graph.vertices\n",
    "\t\ttail_graph.edges = graph.edges.copy()\n",
    "\t\treturn tail_graph\n",
    "\n",
    "\ttail_graph = StandardGraph(0, [])\n",
    "\ttail_graph.vertices += graph.vertices + tail_length\n",
    "\ttail_graph.edges = graph.edges.copy()\n",
    "\t\n",
    "\tfor i in range(0,graph.vertices):\n",
    "\t\ttail_graph.edges.append((i,graph.vertices))\n",
    "\t\n",
    "\tfor i in range(graph.vertices , graph.vertices + tail_length - 1):\n",
    "\t\ttail_graph.edges.append((i, i+1))\n",
    "\n",
    "\treturn tail_graph\n",
    "\n",
    "\n",
    "def make_vertex_edges(graph : StandardGraph) -> List[List[Tuple[int, int, int]]] :\n",
    "\tout = [[] for i in range(graph.vertices)]\n",
    "\n",
    "\tfor i in range(len(graph.edges)):\n",
    "\t\t(v_1, v_2) = graph.edges[i]\n",
    "\t\t\n",
    "\t\tout[v_1].append((i,v_1,v_2))\n",
    "\t\tout[v_2].append((i,v_1,v_2))\n",
    "\t\n",
    "\treturn out"
   ]
  },
  {
   "cell_type": "code",
   "execution_count": 142,
   "metadata": {},
   "outputs": [],
   "source": [
    "graph = StandardGraph(5, [\n",
    "\t(0,1),\n",
    "    (1,2),\n",
    "    (2,3),\n",
    "    (3,4),\n",
    "])\n",
    "\n",
    "# graph = gen_average_degree_directed(6, 1)\n",
    "\n",
    "# max length\n",
    "N = graph.vertices\n",
    "K = N - 1\n",
    "\n",
    "P = N**2\n",
    "\n",
    "binaries = range(floor(log2(K)) + 1)\n",
    "\n",
    "tail_graph = make_tail_graph(graph, K)\n",
    "\n",
    "vertex_edges = make_vertex_edges(graph)"
   ]
  },
  {
   "cell_type": "code",
   "execution_count": 143,
   "metadata": {},
   "outputs": [
    {
     "ename": "TypeError",
     "evalue": "unsupported operand type(s) for +: 'int' and 'tuple'",
     "output_type": "error",
     "traceback": [
      "\u001b[1;31m---------------------------------------------------------------------------\u001b[0m",
      "\u001b[1;31mTypeError\u001b[0m                                 Traceback (most recent call last)",
      "Input \u001b[1;32mIn [143]\u001b[0m, in \u001b[0;36m<module>\u001b[1;34m\u001b[0m\n\u001b[0;32m     17\u001b[0m \u001b[38;5;28;01mfor\u001b[39;00m i \u001b[38;5;129;01min\u001b[39;00m \u001b[38;5;28mrange\u001b[39m(graph\u001b[38;5;241m.\u001b[39mvertices):\n\u001b[0;32m     18\u001b[0m \ttemp_exp \u001b[38;5;241m=\u001b[39m \u001b[38;5;241m2\u001b[39m \u001b[38;5;241m*\u001b[39m vertex_vars[i]\n\u001b[1;32m---> 19\u001b[0m \ttemp_exp \u001b[38;5;241m-\u001b[39m\u001b[38;5;241m=\u001b[39m \u001b[38;5;28;43msum\u001b[39;49m\u001b[43m(\u001b[49m\u001b[43mvertex_edges\u001b[49m\u001b[43m[\u001b[49m\u001b[43mi\u001b[49m\u001b[43m]\u001b[49m\u001b[43m)\u001b[49m\n\u001b[0;32m     20\u001b[0m \tall_node_deg_2_exp \u001b[38;5;241m+\u001b[39m\u001b[38;5;241m=\u001b[39m P \u001b[38;5;241m*\u001b[39m temp_exp\u001b[38;5;241m*\u001b[39m\u001b[38;5;241m*\u001b[39m\u001b[38;5;241m2\u001b[39m\n",
      "\u001b[1;31mTypeError\u001b[0m: unsupported operand type(s) for +: 'int' and 'tuple'"
     ]
    }
   ],
   "source": [
    "\n",
    "\n",
    "vertex_vars = Array.create('vertex', tail_graph.vertices, vartype='BINARY')\n",
    "edge_vars = Array.create('edge', len(tail_graph.edges), vartype='BINARY')\n",
    "initial_edge_vars = Array.create('init_edge', tail_graph.vertices, vartype='BINARY')\n",
    "terminal_edge_vars = Array.create('term_edge', tail_graph.vertices, vartype='BINARY') \n",
    "\n",
    "flow_vars = Array.create('flow', shape=(len(binaries), len(tail_graph.edges)), vartype='BINARY')\n",
    "flow_vars = Array.create('contra_flow', shape=(len(binaries), len(tail_graph.edges)), vartype='BINARY')\n",
    "\n",
    "\n",
    "candy_exp = sum(edge_vars)\n",
    "\n",
    "initial_node_exp = P * (1 - sum(initial_edge_vars[i] for i in range(graph.vertices)))**2\n",
    "\n",
    "terminal_node_exp = P * (1 - sum(terminal_edge_vars[i] for i in range(graph.vertices)))**2\n",
    "\n",
    "all_node_deg_2_exp = 0\n",
    "for i in range(graph.vertices):\n",
    "\tall_node_deg_2_exp += P * (2 * vertex_vars[i] - sum(vertex_edges[i]))**2\n",
    "\n",
    "\n",
    "\n",
    "\n"
   ]
  }
 ],
 "metadata": {
  "kernelspec": {
   "display_name": "Python 3",
   "language": "python",
   "name": "python3"
  },
  "language_info": {
   "codemirror_mode": {
    "name": "ipython",
    "version": 3
   },
   "file_extension": ".py",
   "mimetype": "text/x-python",
   "name": "python",
   "nbconvert_exporter": "python",
   "pygments_lexer": "ipython3",
   "version": "3.10.11"
  }
 },
 "nbformat": 4,
 "nbformat_minor": 2
}
