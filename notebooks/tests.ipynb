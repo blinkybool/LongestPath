{
 "cells": [
  {
   "cell_type": "code",
   "execution_count": null,
   "metadata": {},
   "outputs": [],
   "source": [
    "%load_ext autoreload\n",
    "%autoreload 2\n",
    "# Enable imports form top-level of project (edit top_level_path accordingly)\n",
    "import os\n",
    "import sys\n",
    "top_level_path = os.path.abspath(os.path.join('..'))\n",
    "if top_level_path not in sys.path:\n",
    "\tsys.path.append(top_level_path)"
   ]
  },
  {
   "cell_type": "code",
   "execution_count": 9,
   "metadata": {},
   "outputs": [],
   "source": [
    "from longestpath import brute\n",
    "from longestpath import gen_random_edges_average_degree_directed\n",
    "from longestpath.standard_graph import complete_graph\n",
    "\n",
    "import matplotlib.pyplot as plt\n",
    "import numpy as np"
   ]
  },
  {
   "cell_type": "code",
   "execution_count": 33,
   "metadata": {},
   "outputs": [
    {
     "name": "stdout",
     "output_type": "stream",
     "text": [
      "Read graph. vertices: 1, edges: 1\n",
      "Search mode: BRUTE_FORCE\n",
      "Longest path length: 0\n",
      "Longest path: 0 \n",
      "Time: 0.000003s\n",
      "\n",
      "BF(d:154.99999999999974,v:1): 3e-06\n",
      "Read graph. vertices: 2, edges: 4\n",
      "Search mode: BRUTE_FORCE\n",
      "Longest path length: 1\n",
      "Longest path: 0 1 \n",
      "Time: 0.000002s\n",
      "\n",
      "BF(d:154.99999999999974,v:2): 2e-06\n",
      "Read graph. vertices: 3, edges: 9\n",
      "Search mode: BRUTE_FORCE\n",
      "Longest path length: 2\n",
      "Longest path: 0 1 2 \n",
      "Time: 0.000003s\n",
      "\n",
      "BF(d:154.99999999999974,v:3): 3e-06\n",
      "Read graph. vertices: 4, edges: 16\n",
      "Search mode: BRUTE_FORCE\n",
      "Longest path length: 3\n",
      "Longest path: 0 1 2 3 \n",
      "Time: 0.000003s\n",
      "\n",
      "BF(d:154.99999999999974,v:4): 3e-06\n",
      "Read graph. vertices: 5, edges: 25\n",
      "Search mode: BRUTE_FORCE\n",
      "Longest path length: 4\n",
      "Longest path: 0 1 2 3 4 \n",
      "Time: 0.000008s\n",
      "\n",
      "BF(d:154.99999999999974,v:5): 8e-06\n",
      "Read graph. vertices: 6, edges: 36\n",
      "Search mode: BRUTE_FORCE\n",
      "Longest path length: 5\n",
      "Longest path: 0 1 2 3 4 5 \n",
      "Time: 0.000034s\n",
      "\n",
      "BF(d:154.99999999999974,v:6): 3.4e-05\n",
      "Read graph. vertices: 7, edges: 49\n",
      "Search mode: BRUTE_FORCE\n",
      "Longest path length: 6\n",
      "Longest path: 0 1 2 3 4 5 6 \n",
      "Time: 0.000204s\n",
      "\n",
      "BF(d:154.99999999999974,v:7): 0.000204\n",
      "Read graph. vertices: 8, edges: 64\n",
      "Search mode: BRUTE_FORCE\n",
      "Longest path length: 7\n",
      "Longest path: 0 1 2 3 4 5 6 7 \n",
      "Time: 0.001697s\n",
      "\n",
      "BF(d:154.99999999999974,v:8): 0.001697\n",
      "Read graph. vertices: 9, edges: 81\n",
      "Search mode: BRUTE_FORCE\n",
      "Longest path length: 8\n",
      "Longest path: 0 1 2 3 4 5 6 7 8 \n",
      "Time: 0.017340s\n",
      "\n",
      "BF(d:154.99999999999974,v:9): 0.01734\n",
      "Read graph. vertices: 10, edges: 100\n",
      "Search mode: BRUTE_FORCE\n",
      "Longest path length: 9\n",
      "Longest path: 0 1 2 3 4 5 6 7 8 9 \n",
      "Time: 0.184968s\n",
      "\n",
      "BF(d:154.99999999999974,v:10): 0.184968\n",
      "Read graph. vertices: 11, edges: 121\n",
      "Search mode: BRUTE_FORCE\n",
      "Longest path length: 10\n",
      "Longest path: 0 1 2 3 4 5 6 7 8 9 10 \n",
      "Time: 2.039117s\n",
      "\n",
      "BF(d:154.99999999999974,v:11): 2.039117\n",
      "Read graph. vertices: 12, edges: 144\n",
      "Search mode: BRUTE_FORCE\n",
      "Longest path length: 11\n",
      "Longest path: 0 1 2 3 4 5 6 7 8 9 10 11 \n",
      "Time: 25.367678s\n",
      "\n",
      "BF(d:154.99999999999974,v:12): 25.367678\n",
      "Done\n"
     ]
    }
   ],
   "source": [
    "vertices = list(range(1,13))\n",
    "brute_force = []\n",
    "dfbnb = []\n",
    "\n",
    "for v in vertices:\n",
    "  graph = complete_graph(v)\n",
    "  \n",
    "  brute_force_elapsed = brute.solve(graph, brute.Method.BRUTE_FORCE)\n",
    "  print(f\"BF(d:{d},v:{v}): {brute_force_elapsed}\")\n",
    "  # dfbnb_elapsed = run_test(graph, Method.DFBNB)\n",
    "  # print(f\"DF(d:{d},v:{v}): {dfbnb_elapsed}\")\n",
    "\n",
    "  brute_force.append(brute_force_elapsed)\n",
    "  dfbnb.append(dfbnb_elapsed)\n",
    "\n",
    "print(\"Done\")"
   ]
  },
  {
   "cell_type": "code",
   "execution_count": 34,
   "metadata": {},
   "outputs": [
    {
     "data": {
      "text/plain": [
       "[3e-06,\n",
       " 2e-06,\n",
       " 3e-06,\n",
       " 3e-06,\n",
       " 8e-06,\n",
       " 3.4e-05,\n",
       " 0.000204,\n",
       " 0.001697,\n",
       " 0.01734,\n",
       " 0.184968,\n",
       " 2.039117,\n",
       " 25.367678]"
      ]
     },
     "execution_count": 34,
     "metadata": {},
     "output_type": "execute_result"
    }
   ],
   "source": [
    "brute_force"
   ]
  },
  {
   "cell_type": "code",
   "execution_count": 37,
   "metadata": {},
   "outputs": [
    {
     "data": {
      "text/plain": [
       "[<matplotlib.lines.Line2D at 0x7fdd2e8fcce0>]"
      ]
     },
     "execution_count": 37,
     "metadata": {},
     "output_type": "execute_result"
    },
    {
     "data": {
      "image/png": "[encoded data removed]",
      "text/plain": [
       "<Figure size 640x480 with 1 Axes>"
      ]
     },
     "metadata": {},
     "output_type": "display_data"
    }
   ],
   "source": [
    "plt.yscale('log')\n",
    "plt.plot(vertices, brute_force)"
   ]
  },
  {
   "cell_type": "code",
   "execution_count": null,
   "metadata": {},
   "outputs": [],
   "source": []
  }
 ],
 "metadata": {
  "kernelspec": {
   "display_name": "Python 3",
   "language": "python",
   "name": "python3"
  },
  "language_info": {
   "codemirror_mode": {
    "name": "ipython",
    "version": 3
   },
   "file_extension": ".py",
   "mimetype": "text/x-python",
   "name": "python",
   "nbconvert_exporter": "python",
   "pygments_lexer": "ipython3",
   "version": "3.12.2"
  }
 },
 "nbformat": 4,
 "nbformat_minor": 2
}
