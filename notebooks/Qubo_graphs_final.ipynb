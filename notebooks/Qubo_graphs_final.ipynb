{
 "cells": [
  {
   "cell_type": "code",
   "execution_count": 202,
   "metadata": {},
   "outputs": [
    {
     "name": "stdout",
     "output_type": "stream",
     "text": [
      "The autoreload extension is already loaded. To reload it, use:\n",
      "  %reload_ext autoreload\n"
     ]
    }
   ],
   "source": [
    "%load_ext autoreload\n",
    "%autoreload 2\n",
    "# Enable imports form top-level of project (edit top_level_path accordingly)\n",
    "import os\n",
    "import sys\n",
    "top_level_path = os.path.abspath(os.path.join('..'))\n",
    "if top_level_path not in sys.path:\n",
    "\tsys.path.append(top_level_path)"
   ]
  },
  {
   "cell_type": "code",
   "execution_count": 203,
   "metadata": {},
   "outputs": [],
   "source": [
    "\n",
    "from longestpath import gen_average_degree_directed, gen_planted_path, StandardGraph, complete_graph, gen_num_edges, gen_num_edges_no_loops\n",
    "from longestpath import qubo\n",
    "from longestpath import brute\n",
    "import multiprocessing\n",
    "import time"
   ]
  },
  {
   "cell_type": "code",
   "execution_count": 204,
   "metadata": {},
   "outputs": [
    {
     "name": "stdout",
     "output_type": "stream",
     "text": [
      "{'run_time': 0.0, 'length': 7}\n",
      "  0,  2,  6,  7,  9, 11, 13, 14,\n",
      "Target = 7\n",
      "Time to solve =  17.830904960632324\n",
      "7.0\n"
     ]
    }
   ],
   "source": [
    "n = 15\n",
    "d = 3\n",
    "graph = gen_num_edges_no_loops(n, round(n * d))\n",
    "\n",
    "def pretty_result(result):\n",
    "\tinfo = {k:v for k,v in result.items() if type(v) in [int, float, str]}\n",
    "\tif \"path\" in result:\n",
    "\t\tinfo[\"length\"] = len(result['path'])-1\n",
    "\t\tformat_str = \"{:>3},\"*len(result['path'])\n",
    "\t\treturn str(info) + \"\\n\" + format_str.format(*list(map(str, result['path'])))\n",
    "\telse:\n",
    "\t\treturn str(info)\n",
    "\n",
    "brute_result = brute.solve(multiprocessing.Queue(), graph, \"BRANCH_N_BOUND\")\n",
    "print(pretty_result(brute_result))\n",
    "target = len(brute_result['path'])-1\n",
    "print(\"Target =\", target)\n",
    "\n",
    "solver = qubo.QUBOSolver(graph)\n",
    "beginTime = time.time()\n",
    "\n",
    "min_beta, max_beta = solver.get_default_beta_range()\n",
    "e, sampleset = solver.solve_for_sample(num_reads=100, num_sweeps=100)#, beta_range=(0.1, 0.5*max_beta))\n",
    "while(-e < target):\n",
    "\te, sampleset = solver.solve_for_sample(num_reads=100, num_sweeps=100, initial_states= sampleset)#, beta_range=(0.1, 0.5*max_beta))\n",
    "\n",
    "endTime = time.time()\n",
    "print(\"Time to solve = \", endTime - beginTime)\n",
    "print(-e)"
   ]
  }
 ],
 "metadata": {
  "kernelspec": {
   "display_name": "Python 3",
   "language": "python",
   "name": "python3"
  },
  "language_info": {
   "codemirror_mode": {
    "name": "ipython",
    "version": 3
   },
   "file_extension": ".py",
   "mimetype": "text/x-python",
   "name": "python",
   "nbconvert_exporter": "python",
   "pygments_lexer": "ipython3",
   "version": "3.10.0"
  }
 },
 "nbformat": 4,
 "nbformat_minor": 2
}
