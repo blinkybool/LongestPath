{
 "cells": [
  {
   "cell_type": "code",
   "execution_count": 110,
   "id": "8da8c9d0",
   "metadata": {},
   "outputs": [
    {
     "name": "stdout",
     "output_type": "stream",
     "text": [
      "The autoreload extension is already loaded. To reload it, use:\n",
      "  %reload_ext autoreload\n"
     ]
    }
   ],
   "source": [
    "%load_ext autoreload\n",
    "%autoreload 2\n",
    "# Enable imports form top-level of project (edit top_level_path accordingly)\n",
    "import os\n",
    "import sys\n",
    "top_level_path = os.path.abspath(os.path.join('..'))\n",
    "if top_level_path not in sys.path:\n",
    "\tsys.path.append(top_level_path)"
   ]
  },
  {
   "cell_type": "code",
   "execution_count": 111,
   "id": "447c4ec2-297d-4d9f-9c52-934136268a73",
   "metadata": {},
   "outputs": [],
   "source": [
    "from pyqubo import Binary, Array, Num\n",
    "import numpy as np\n",
    "from dimod import ExactSolver\n",
    "import neal\n",
    "from longestpath import gen_average_degree_directed, gen_planted_path, StandardGraph"
   ]
  },
  {
   "cell_type": "code",
   "execution_count": 112,
   "id": "a666e07c-11cf-432d-bbe2-15f0ec992189",
   "metadata": {},
   "outputs": [],
   "source": [
    "# graph = StandardGraph(5, [\n",
    "# \t(0,1),\n",
    "#     (1,2),\n",
    "#     (2,3),\n",
    "#     (3,4)\n",
    "# ])\n",
    "\n",
    "graph = gen_average_degree_directed(4, 4**2)\n",
    "\n",
    "# max length\n",
    "N = graph.vertices\n",
    "M = N\n",
    "\n",
    "p = M+1\n",
    "\n",
    "matrix = graph.to_matrix()"
   ]
  },
  {
   "cell_type": "code",
   "execution_count": 113,
   "id": "185adebc-2d8c-4104-9696-dcb1bbb6f99d",
   "metadata": {},
   "outputs": [
    {
     "name": "stdout",
     "output_type": "stream",
     "text": [
      "Done with serial_exp : Took 0.0015261173248291016 seconds\n",
      "0 / 3\n",
      "1 / 3\n",
      "2 / 3\n",
      "3 / 3\n",
      "Done with no_repeatblocks_exp : Took 0.007070302963256836 seconds\n",
      "Done with edges_exp : Took 0.0030481815338134766 seconds\n"
     ]
    }
   ],
   "source": [
    "vars = Array.create('x', shape=(M+1, N+1), vartype='BINARY')\n",
    "\n",
    "import time\n",
    "\n",
    "start = time.time()\n",
    "serial_exp = Num(-p) * sum([(sum(block) - Num(1))**2 for block in vars]) + Num(0)\n",
    "end = time.time()\n",
    "\n",
    "print(f\"Done with serial_exp : Took {end - start} seconds\")\n",
    "\n",
    "#Seems to output same matrix as below\n",
    "# serial_exp = Num(0)\n",
    "\n",
    "# for m in range(M+1):\n",
    "# \ttemp_exp = Num(-1)\n",
    "# \tfor n in range(N+1):\n",
    "# \t\ttemp_exp += vars[m][n]\n",
    "# \tserial_exp += Num(-p) * temp_exp ** 2\n",
    "\n",
    "no_repeat_blocks_exp = Num(0)\n",
    "\n",
    "start = time.time()\n",
    "\n",
    "for i in range(N):\n",
    "\tprint(f\"{i} / {N-1}\")\n",
    "\tfor j in range(M):\n",
    "\n",
    "\t\tno_repeat_blocks_exp += sum([vars[j][i] * vars[k][i] for k in range(j+1, M+1)])\n",
    "\n",
    "# \t\tfor k in range(j+1, M+1):\n",
    "# \t\t\tno_repeat_blocks_exp += vars[j][i] * vars[k][i] * Num(-p)\n",
    "no_repeat_blocks_exp *= Num(-p)\n",
    "\n",
    "end = time.time()\n",
    "\n",
    "print(f\"Done with no_repeatblocks_exp : Took {end - start} seconds\")\n",
    "\n",
    "start = time.time()\n",
    "edges_exp = Num(0)\n",
    "for m in range(M):\n",
    "\tfor i in range(N):\n",
    "\t\tfor j in range(N):\n",
    "\t\t\tif i == j:\n",
    "\t\t\t\tcontinue\n",
    "\t\t\t\n",
    "\t\t\tif matrix[i][j]:\n",
    "\t\t\t\tedges_exp += vars[m][i] * vars[m+1][j]\n",
    "\t\t\telse:\n",
    "\t\t\t\tedges_exp += Num(-p) * vars[m][i] * vars[m+1][j]\n",
    "\n",
    "for m in range(M):\n",
    "\tfor i in range(N):\n",
    "\t\tedges_exp += Num(-p) * vars[m][N] * vars[m+1][i]\n",
    "\n",
    "end = time.time()\n",
    "\n",
    "print(f\"Done with edges_exp : Took {end - start} seconds\")"
   ]
  },
  {
   "cell_type": "code",
   "execution_count": 114,
   "id": "ed7d8f04-3f97-422a-9756-763e73770417",
   "metadata": {},
   "outputs": [
    {
     "ename": "KeyboardInterrupt",
     "evalue": "",
     "output_type": "error",
     "traceback": [
      "\u001b[1;31m---------------------------------------------------------------------------\u001b[0m",
      "\u001b[1;31mKeyboardInterrupt\u001b[0m                         Traceback (most recent call last)",
      "Input \u001b[1;32mIn [114]\u001b[0m, in \u001b[0;36m<module>\u001b[1;34m\u001b[0m\n\u001b[0;32m     16\u001b[0m start \u001b[38;5;241m=\u001b[39m time\u001b[38;5;241m.\u001b[39mtime()\n\u001b[0;32m     18\u001b[0m \u001b[38;5;66;03m# sa = neal.SimulatedAnnealingSampler()\u001b[39;00m\n\u001b[0;32m     19\u001b[0m \n\u001b[0;32m     20\u001b[0m \u001b[38;5;66;03m# def interrupt():\u001b[39;00m\n\u001b[1;32m   (...)\u001b[0m\n\u001b[0;32m     26\u001b[0m \n\u001b[0;32m     27\u001b[0m \u001b[38;5;66;03m# sampleset = sa.sample(bqm, num_reads= 100, num_sweeps= 10000, interrupt_function= interrupt)\u001b[39;00m\n\u001b[1;32m---> 28\u001b[0m sampleset \u001b[38;5;241m=\u001b[39m \u001b[43mExactSolver\u001b[49m\u001b[43m(\u001b[49m\u001b[43m)\u001b[49m\u001b[38;5;241;43m.\u001b[39;49m\u001b[43msample\u001b[49m\u001b[43m(\u001b[49m\u001b[43mbqm\u001b[49m\u001b[43m)\u001b[49m\n\u001b[0;32m     30\u001b[0m decoded_samples \u001b[38;5;241m=\u001b[39m model\u001b[38;5;241m.\u001b[39mdecode_sampleset(sampleset)\n\u001b[0;32m     31\u001b[0m best_sample \u001b[38;5;241m=\u001b[39m \u001b[38;5;28mmin\u001b[39m(decoded_samples, key\u001b[38;5;241m=\u001b[39m\u001b[38;5;28;01mlambda\u001b[39;00m x: x\u001b[38;5;241m.\u001b[39menergy)\n",
      "File \u001b[1;32mc:\\Users\\cevan\\AppData\\Local\\Programs\\Python\\Python310\\lib\\site-packages\\dimod\\reference\\samplers\\exact_solver.py:83\u001b[0m, in \u001b[0;36mExactSolver.sample\u001b[1;34m(self, bqm, **kwargs)\u001b[0m\n\u001b[0;32m     80\u001b[0m \u001b[38;5;28;01mif\u001b[39;00m \u001b[38;5;129;01mnot\u001b[39;00m \u001b[38;5;28mlen\u001b[39m(bqm\u001b[38;5;241m.\u001b[39mvariables):\n\u001b[0;32m     81\u001b[0m     \u001b[38;5;28;01mreturn\u001b[39;00m SampleSet\u001b[38;5;241m.\u001b[39mfrom_samples([], bqm\u001b[38;5;241m.\u001b[39mvartype, energy\u001b[38;5;241m=\u001b[39m[])\n\u001b[1;32m---> 83\u001b[0m samples \u001b[38;5;241m=\u001b[39m \u001b[43m_graycode\u001b[49m\u001b[43m(\u001b[49m\u001b[43mbqm\u001b[49m\u001b[43m)\u001b[49m\n\u001b[0;32m     85\u001b[0m \u001b[38;5;28;01mif\u001b[39;00m bqm\u001b[38;5;241m.\u001b[39mvartype \u001b[38;5;129;01mis\u001b[39;00m Vartype\u001b[38;5;241m.\u001b[39mSPIN:\n\u001b[0;32m     86\u001b[0m     samples \u001b[38;5;241m=\u001b[39m \u001b[38;5;241m2\u001b[39m\u001b[38;5;241m*\u001b[39msamples \u001b[38;5;241m-\u001b[39m \u001b[38;5;241m1\u001b[39m\n",
      "File \u001b[1;32mc:\\Users\\cevan\\AppData\\Local\\Programs\\Python\\Python310\\lib\\site-packages\\dimod\\reference\\samplers\\exact_solver.py:264\u001b[0m, in \u001b[0;36m_graycode\u001b[1;34m(bqm)\u001b[0m\n\u001b[0;32m    262\u001b[0m     v \u001b[38;5;241m=\u001b[39m (i \u001b[38;5;241m&\u001b[39m \u001b[38;5;241m-\u001b[39mi)\u001b[38;5;241m.\u001b[39mbit_length() \u001b[38;5;241m-\u001b[39m \u001b[38;5;241m1\u001b[39m  \u001b[38;5;66;03m# the least significant set bit of i\u001b[39;00m\n\u001b[0;32m    263\u001b[0m     samples[i, :] \u001b[38;5;241m=\u001b[39m samples[i \u001b[38;5;241m-\u001b[39m \u001b[38;5;241m1\u001b[39m, :]\n\u001b[1;32m--> 264\u001b[0m     samples[i, v] \u001b[38;5;241m=\u001b[39m \u001b[38;5;129;01mnot\u001b[39;00m samples[i \u001b[38;5;241m-\u001b[39m \u001b[38;5;241m1\u001b[39m, v]\n\u001b[0;32m    266\u001b[0m \u001b[38;5;28;01mreturn\u001b[39;00m samples\n",
      "\u001b[1;31mKeyboardInterrupt\u001b[0m: "
     ]
    }
   ],
   "source": [
    "def to_matrix(exp):\n",
    "\tmodel = exp.compile()\n",
    "\tqubo, energy_offset = model.to_qubo(index_label=True)\n",
    "\n",
    "\treturn np.matrix([[int(qubo.get((i,j), 0)) for j in range((M+1)*(N+1))] for i in range((M+1)*(N+1))])\n",
    "\n",
    "total_exp = serial_exp + no_repeat_blocks_exp + edges_exp\n",
    "\n",
    "exp = -total_exp\n",
    "\n",
    "model = exp.compile()\n",
    "bqm = model.to_bqm()\n",
    "\n",
    "# print(to_matrix(total_exp))\n",
    "\n",
    "start = time.time()\n",
    "\n",
    "sa = neal.SimulatedAnnealingSampler()\n",
    "\n",
    "def interrupt():\n",
    "\te = time.time()\n",
    "\tif (e - start) > 10:\n",
    "\t\treturn True\n",
    "\treturn False\n",
    "\n",
    "sampleset = sa.sample(bqm, num_reads= 100, num_sweeps= 1000, interrupt_function= interrupt)\n",
    "\n",
    "decoded_samples = model.decode_sampleset(sampleset)\n",
    "best_sample = min(decoded_samples, key=lambda x: x.energy)\n",
    "print(best_sample.energy)\n",
    "\n",
    "end = time.time()\n",
    "\n",
    "print(f\"Solving took {end - start} seconds\")\n",
    "\n",
    "# sampleset = ExactSolver().sample(bqm)\n",
    "# decoded_samples = model.decode_sampleset(sampleset)\n",
    "# best_sample = max(decoded_samples, key=lambda s: s.energy)\n",
    "# print(best_sample.energy)"
   ]
  },
  {
   "cell_type": "code",
   "execution_count": null,
   "id": "4460fe36",
   "metadata": {},
   "outputs": [],
   "source": []
  },
  {
   "cell_type": "code",
   "execution_count": null,
   "id": "af68afde-d389-436f-8d7e-9b3d76cfeb6f",
   "metadata": {},
   "outputs": [],
   "source": []
  }
 ],
 "metadata": {
  "kernelspec": {
   "display_name": "Python 3",
   "language": "python",
   "name": "python3"
  },
  "language_info": {
   "codemirror_mode": {
    "name": "ipython",
    "version": 3
   },
   "file_extension": ".py",
   "mimetype": "text/x-python",
   "name": "python",
   "nbconvert_exporter": "python",
   "pygments_lexer": "ipython3",
   "version": "3.10.11"
  }
 },
 "nbformat": 4,
 "nbformat_minor": 5
}
