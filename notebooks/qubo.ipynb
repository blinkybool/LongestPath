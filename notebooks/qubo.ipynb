{
 "cells": [
  {
   "cell_type": "code",
   "execution_count": null,
   "id": "8da8c9d0",
   "metadata": {},
   "outputs": [],
   "source": [
    "%load_ext autoreload\n",
    "%autoreload 2\n",
    "# Enable imports form top-level of project (edit top_level_path accordingly)\n",
    "import os\n",
    "import sys\n",
    "top_level_path = os.path.abspath(os.path.join('..'))\n",
    "if top_level_path not in sys.path:\n",
    "\tsys.path.append(top_level_path)"
   ]
  },
  {
   "cell_type": "code",
   "execution_count": 4,
   "id": "447c4ec2-297d-4d9f-9c52-934136268a73",
   "metadata": {},
   "outputs": [],
   "source": [
    "from pyqubo import Binary, Array, Num\n",
    "import numpy as np\n",
    "from dimod import ExactSolver\n",
    "import neal\n",
    "from longestpath import gen_average_degree_directed, gen_planted_path, StandardGraph"
   ]
  },
  {
   "cell_type": "code",
   "execution_count": 20,
   "id": "a666e07c-11cf-432d-bbe2-15f0ec992189",
   "metadata": {},
   "outputs": [],
   "source": [
    "# graph = StandardGraph(5, [\n",
    "# \t(0,1),\n",
    "#     (1,2),\n",
    "#     (2,3),\n",
    "#     (3,4)\n",
    "# ])\n",
    "\n",
    "graph = gen_average_degree_directed(20, 3)\n",
    "\n",
    "# max length\n",
    "N = graph.vertices\n",
    "M = N\n",
    "\n",
    "p = M+1\n",
    "\n",
    "matrix = graph.to_matrix()"
   ]
  },
  {
   "cell_type": "code",
   "execution_count": 21,
   "id": "185adebc-2d8c-4104-9696-dcb1bbb6f99d",
   "metadata": {},
   "outputs": [
    {
     "name": "stdout",
     "output_type": "stream",
     "text": [
      "Done with serial_exp : Took 0.0010008811950683594 seconds\n",
      "0 / 19\n",
      "1 / 19\n",
      "2 / 19\n",
      "3 / 19\n",
      "4 / 19\n",
      "5 / 19\n",
      "6 / 19\n",
      "7 / 19\n",
      "8 / 19\n",
      "9 / 19\n",
      "10 / 19\n",
      "11 / 19\n",
      "12 / 19\n",
      "13 / 19\n",
      "14 / 19\n",
      "15 / 19\n",
      "16 / 19\n",
      "17 / 19\n",
      "18 / 19\n",
      "19 / 19\n",
      "Done with no_repeatblocks_exp : Took 0.08051037788391113 seconds\n",
      "Done with edges_exp : Took 0.14351224899291992 seconds\n"
     ]
    }
   ],
   "source": [
    "vars = Array.create('x', shape=(M+1, N+1), vartype='BINARY')\n",
    "\n",
    "import time\n",
    "\n",
    "start = time.time()\n",
    "serial_exp = Num(-p) * sum([(sum(block) - Num(1))**2 for block in vars]) + Num(0)\n",
    "end = time.time()\n",
    "\n",
    "print(f\"Done with serial_exp : Took {end - start} seconds\")\n",
    "\n",
    "#Seems to output same matrix as below\n",
    "# serial_exp = Num(0)\n",
    "\n",
    "# for m in range(M+1):\n",
    "# \ttemp_exp = Num(-1)\n",
    "# \tfor n in range(N+1):\n",
    "# \t\ttemp_exp += vars[m][n]\n",
    "# \tserial_exp += Num(-p) * temp_exp ** 2\n",
    "\n",
    "no_repeat_blocks_exp = Num(0)\n",
    "\n",
    "start = time.time()\n",
    "\n",
    "for i in range(N):\n",
    "\tprint(f\"{i} / {N-1}\")\n",
    "\tfor j in range(M):\n",
    "\n",
    "\t\tno_repeat_blocks_exp += sum([vars[j][i] * vars[k][i] for k in range(j+1, M+1)])\n",
    "\n",
    "# \t\tfor k in range(j+1, M+1):\n",
    "# \t\t\tno_repeat_blocks_exp += vars[j][i] * vars[k][i] * Num(-p)\n",
    "no_repeat_blocks_exp *= Num(-p)\n",
    "\n",
    "end = time.time()\n",
    "\n",
    "print(f\"Done with no_repeatblocks_exp : Took {end - start} seconds\")\n",
    "\n",
    "start = time.time()\n",
    "edges_exp = Num(0)\n",
    "for m in range(M):\n",
    "\tfor i in range(N):\n",
    "\t\tfor j in range(N):\n",
    "\t\t\tif i == j:\n",
    "\t\t\t\tcontinue\n",
    "\t\t\t\n",
    "\t\t\tif matrix[i][j]:\n",
    "\t\t\t\tedges_exp += vars[m][i] * vars[m+1][j]\n",
    "\t\t\telse:\n",
    "\t\t\t\tedges_exp += Num(-p) * vars[m][i] * vars[m+1][j]\n",
    "\n",
    "for m in range(M):\n",
    "\tfor i in range(N):\n",
    "\t\tedges_exp += Num(-p) * vars[m][N] * vars[m+1][i]\n",
    "\n",
    "end = time.time()\n",
    "\n",
    "print(f\"Done with edges_exp : Took {end - start} seconds\")"
   ]
  },
  {
   "cell_type": "code",
   "execution_count": 22,
   "id": "ed7d8f04-3f97-422a-9756-763e73770417",
   "metadata": {},
   "outputs": [
    {
     "name": "stdout",
     "output_type": "stream",
     "text": [
      "-16.0\n",
      "Solving took 1.1202082633972168 seconds\n"
     ]
    }
   ],
   "source": [
    "def to_matrix(exp):\n",
    "\tmodel = exp.compile()\n",
    "\tqubo, energy_offset = model.to_qubo(index_label=True)\n",
    "\n",
    "\treturn np.matrix([[int(qubo.get((i,j), 0)) for j in range((M+1)*(N+1))] for i in range((M+1)*(N+1))])\n",
    "\n",
    "total_exp = serial_exp + no_repeat_blocks_exp + edges_exp\n",
    "\n",
    "exp = -total_exp\n",
    "\n",
    "model = exp.compile()\n",
    "bqm = model.to_bqm()\n",
    "\n",
    "# print(to_matrix(total_exp))\n",
    "\n",
    "start = time.time()\n",
    "\n",
    "sa = neal.SimulatedAnnealingSampler()\n",
    "sampleset = sa.sample(bqm, num_reads=100)\n",
    "decoded_samples = model.decode_sampleset(sampleset)\n",
    "best_sample = min(decoded_samples, key=lambda x: x.energy)\n",
    "print(best_sample.energy)\n",
    "\n",
    "end = time.time()\n",
    "\n",
    "print(f\"Solving took {end - start} seconds\")\n",
    "\n",
    "# sampleset = ExactSolver().sample(bqm)\n",
    "# decoded_samples = model.decode_sampleset(sampleset)\n",
    "# best_sample = max(decoded_samples, key=lambda s: s.energy)\n",
    "# print(best_sample.energy)"
   ]
  },
  {
   "cell_type": "code",
   "execution_count": null,
   "id": "4460fe36",
   "metadata": {},
   "outputs": [],
   "source": []
  },
  {
   "cell_type": "code",
   "execution_count": null,
   "id": "af68afde-d389-436f-8d7e-9b3d76cfeb6f",
   "metadata": {},
   "outputs": [],
   "source": []
  }
 ],
 "metadata": {
  "kernelspec": {
   "display_name": "Python 3",
   "language": "python",
   "name": "python3"
  },
  "language_info": {
   "codemirror_mode": {
    "name": "ipython",
    "version": 3
   },
   "file_extension": ".py",
   "mimetype": "text/x-python",
   "name": "python",
   "nbconvert_exporter": "python",
   "pygments_lexer": "ipython3",
   "version": "3.10.0"
  }
 },
 "nbformat": 4,
 "nbformat_minor": 5
}
