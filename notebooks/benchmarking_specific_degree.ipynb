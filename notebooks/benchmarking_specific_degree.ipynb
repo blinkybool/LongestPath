{
 "cells": [
  {
   "cell_type": "code",
   "execution_count": 1,
   "metadata": {},
   "outputs": [],
   "source": [
    "%load_ext autoreload\n",
    "%autoreload 2\n",
    "# Enable imports form top-level of project (edit top_level_path accordingly)\n",
    "import os\n",
    "import sys\n",
    "import inspect\n",
    "\n",
    "top_level_path = os.path.abspath(os.path.join('..'))\n",
    "if top_level_path not in sys.path:\n",
    "\tsys.path.append(top_level_path)\n",
    "\n",
    "import pandas as pd\n",
    "import matplotlib.pyplot as plt\n",
    "import numpy as np\n",
    "import os\n",
    "from longestpath.gen import gen_num_edges\n",
    "from benchmarking import RandomParams, Benchmark, new_random_benchmark, Solver, new_graph_file_benchmark, new_benchmark\n",
    "import re"
   ]
  },
  {
   "cell_type": "code",
   "execution_count": 2,
   "metadata": {},
   "outputs": [
    {
     "data": {
      "text/plain": [
       "'../benchmarks/test(6)'"
      ]
     },
     "execution_count": 2,
     "metadata": {},
     "output_type": "execute_result"
    }
   ],
   "source": [
    "def generate():\n",
    "  return [\n",
    "    gen_num_edges(1000, round(1000 * degree))\n",
    "      for degree in np.arange(1, 2.1, 0.1) for _ in range(1)\n",
    "  ]\n",
    "\n",
    "params_code = inspect.getsource(generate)\n",
    "graphs = generate()\n",
    "\n",
    "benchmark = new_benchmark(graphs, solvers=[\n",
    "\tSolver(\"brute\", \"FAST_BOUND\"),\n",
    "\t# Solver(\"kalp\"),\n",
    "\t# Solver(\"brute\", \"BRUTE_FORCE\"),\n",
    "], params_code = params_code, override_benchmark_path=\"../benchmarks/test\")\n",
    "\n",
    "benchmark.benchmark_path\n"
   ]
  },
  {
   "cell_type": "code",
   "execution_count": 74,
   "metadata": {},
   "outputs": [],
   "source": [
    "benchmark = Benchmark.load(\"../benchmarks/test(15)\")"
   ]
  },
  {
   "cell_type": "code",
   "execution_count": 4,
   "metadata": {},
   "outputs": [
    {
     "name": "stdout",
     "output_type": "stream",
     "text": [
      "graph: 0.txt, solver: brute('FAST_BOUND') ... "
     ]
    },
    {
     "name": "stdout",
     "output_type": "stream",
     "text": [
      "✅\n",
      "length: 24, run_time: 0.000111\n",
      "graph: 1.txt, solver: brute('FAST_BOUND') ... ✅\n",
      "length: 66, run_time: 0.000849\n",
      "graph: 2.txt, solver: brute('FAST_BOUND') ... ✅\n",
      "length: 109, run_time: 0.030349\n",
      "graph: 3.txt, solver: brute('FAST_BOUND') ... ✅\n",
      "length: 114, run_time: 0.030858\n",
      "graph: 4.txt, solver: brute('FAST_BOUND') ... ❌ (timeout)\n",
      "graph: 5.txt, solver: brute('FAST_BOUND') ... ❌ (timeout)\n",
      "graph: 6.txt, solver: brute('FAST_BOUND') ... ❌ (timeout)\n",
      "graph: 7.txt, solver: brute('FAST_BOUND') ... ❌ (timeout)\n",
      "graph: 8.txt, solver: brute('FAST_BOUND') ... ❌ (timeout)\n",
      "graph: 9.txt, solver: brute('FAST_BOUND') ... ❌ (timeout)\n",
      "graph: 10.txt, solver: brute('FAST_BOUND') ... ❌ (timeout)\n"
     ]
    }
   ],
   "source": [
    "benchmark.run(retryFailures=True, timeout=2)\n"
   ]
  },
  {
   "cell_type": "code",
   "execution_count": 5,
   "metadata": {},
   "outputs": [
    {
     "data": {
      "text/html": [
       "<div>\n",
       "<style scoped>\n",
       "    .dataframe tbody tr th:only-of-type {\n",
       "        vertical-align: middle;\n",
       "    }\n",
       "\n",
       "    .dataframe tbody tr th {\n",
       "        vertical-align: top;\n",
       "    }\n",
       "\n",
       "    .dataframe thead th {\n",
       "        text-align: right;\n",
       "    }\n",
       "</style>\n",
       "<table border=\"1\" class=\"dataframe\">\n",
       "  <thead>\n",
       "    <tr style=\"text-align: right;\">\n",
       "      <th></th>\n",
       "      <th>path</th>\n",
       "      <th>run_time</th>\n",
       "      <th>length</th>\n",
       "      <th>solver</th>\n",
       "      <th>graph_id</th>\n",
       "      <th>failure</th>\n",
       "      <th>solver_name</th>\n",
       "      <th>vertices</th>\n",
       "      <th>edges</th>\n",
       "      <th>average_out_degree</th>\n",
       "    </tr>\n",
       "  </thead>\n",
       "  <tbody>\n",
       "    <tr>\n",
       "      <th>0</th>\n",
       "      <td>[279, 999, 813, 114, 255, 409, 894, 56, 941, 9...</td>\n",
       "      <td>0.000111</td>\n",
       "      <td>24.0</td>\n",
       "      <td>0</td>\n",
       "      <td>0</td>\n",
       "      <td>NaN</td>\n",
       "      <td>brute('FAST_BOUND')</td>\n",
       "      <td>1000</td>\n",
       "      <td>1000</td>\n",
       "      <td>1.0</td>\n",
       "    </tr>\n",
       "    <tr>\n",
       "      <th>1</th>\n",
       "      <td>[52, 385, 62, 762, 780, 550, 386, 982, 591, 82...</td>\n",
       "      <td>0.000849</td>\n",
       "      <td>66.0</td>\n",
       "      <td>0</td>\n",
       "      <td>1</td>\n",
       "      <td>NaN</td>\n",
       "      <td>brute('FAST_BOUND')</td>\n",
       "      <td>1000</td>\n",
       "      <td>1100</td>\n",
       "      <td>1.1</td>\n",
       "    </tr>\n",
       "    <tr>\n",
       "      <th>2</th>\n",
       "      <td>[10, 144, 330, 175, 395, 739, 850, 574, 390, 9...</td>\n",
       "      <td>0.030349</td>\n",
       "      <td>109.0</td>\n",
       "      <td>0</td>\n",
       "      <td>2</td>\n",
       "      <td>NaN</td>\n",
       "      <td>brute('FAST_BOUND')</td>\n",
       "      <td>1000</td>\n",
       "      <td>1200</td>\n",
       "      <td>1.2</td>\n",
       "    </tr>\n",
       "    <tr>\n",
       "      <th>3</th>\n",
       "      <td>[427, 863, 781, 780, 651, 874, 294, 909, 417, ...</td>\n",
       "      <td>0.030858</td>\n",
       "      <td>114.0</td>\n",
       "      <td>0</td>\n",
       "      <td>3</td>\n",
       "      <td>NaN</td>\n",
       "      <td>brute('FAST_BOUND')</td>\n",
       "      <td>1000</td>\n",
       "      <td>1300</td>\n",
       "      <td>1.3</td>\n",
       "    </tr>\n",
       "    <tr>\n",
       "      <th>4</th>\n",
       "      <td>NaN</td>\n",
       "      <td>2.000000</td>\n",
       "      <td>NaN</td>\n",
       "      <td>0</td>\n",
       "      <td>4</td>\n",
       "      <td>timeout</td>\n",
       "      <td>brute('FAST_BOUND')</td>\n",
       "      <td>1000</td>\n",
       "      <td>1400</td>\n",
       "      <td>1.4</td>\n",
       "    </tr>\n",
       "    <tr>\n",
       "      <th>5</th>\n",
       "      <td>NaN</td>\n",
       "      <td>2.000000</td>\n",
       "      <td>NaN</td>\n",
       "      <td>0</td>\n",
       "      <td>5</td>\n",
       "      <td>timeout</td>\n",
       "      <td>brute('FAST_BOUND')</td>\n",
       "      <td>1000</td>\n",
       "      <td>1500</td>\n",
       "      <td>1.5</td>\n",
       "    </tr>\n",
       "    <tr>\n",
       "      <th>6</th>\n",
       "      <td>NaN</td>\n",
       "      <td>2.000000</td>\n",
       "      <td>NaN</td>\n",
       "      <td>0</td>\n",
       "      <td>6</td>\n",
       "      <td>timeout</td>\n",
       "      <td>brute('FAST_BOUND')</td>\n",
       "      <td>1000</td>\n",
       "      <td>1600</td>\n",
       "      <td>1.6</td>\n",
       "    </tr>\n",
       "    <tr>\n",
       "      <th>7</th>\n",
       "      <td>NaN</td>\n",
       "      <td>2.000000</td>\n",
       "      <td>NaN</td>\n",
       "      <td>0</td>\n",
       "      <td>7</td>\n",
       "      <td>timeout</td>\n",
       "      <td>brute('FAST_BOUND')</td>\n",
       "      <td>1000</td>\n",
       "      <td>1700</td>\n",
       "      <td>1.7</td>\n",
       "    </tr>\n",
       "    <tr>\n",
       "      <th>8</th>\n",
       "      <td>NaN</td>\n",
       "      <td>2.000000</td>\n",
       "      <td>NaN</td>\n",
       "      <td>0</td>\n",
       "      <td>8</td>\n",
       "      <td>timeout</td>\n",
       "      <td>brute('FAST_BOUND')</td>\n",
       "      <td>1000</td>\n",
       "      <td>1800</td>\n",
       "      <td>1.8</td>\n",
       "    </tr>\n",
       "    <tr>\n",
       "      <th>9</th>\n",
       "      <td>NaN</td>\n",
       "      <td>2.000000</td>\n",
       "      <td>NaN</td>\n",
       "      <td>0</td>\n",
       "      <td>9</td>\n",
       "      <td>timeout</td>\n",
       "      <td>brute('FAST_BOUND')</td>\n",
       "      <td>1000</td>\n",
       "      <td>1900</td>\n",
       "      <td>1.9</td>\n",
       "    </tr>\n",
       "    <tr>\n",
       "      <th>10</th>\n",
       "      <td>NaN</td>\n",
       "      <td>2.000000</td>\n",
       "      <td>NaN</td>\n",
       "      <td>0</td>\n",
       "      <td>10</td>\n",
       "      <td>timeout</td>\n",
       "      <td>brute('FAST_BOUND')</td>\n",
       "      <td>1000</td>\n",
       "      <td>2000</td>\n",
       "      <td>2.0</td>\n",
       "    </tr>\n",
       "  </tbody>\n",
       "</table>\n",
       "</div>"
      ],
      "text/plain": [
       "                                                 path  run_time  length  \\\n",
       "0   [279, 999, 813, 114, 255, 409, 894, 56, 941, 9...  0.000111    24.0   \n",
       "1   [52, 385, 62, 762, 780, 550, 386, 982, 591, 82...  0.000849    66.0   \n",
       "2   [10, 144, 330, 175, 395, 739, 850, 574, 390, 9...  0.030349   109.0   \n",
       "3   [427, 863, 781, 780, 651, 874, 294, 909, 417, ...  0.030858   114.0   \n",
       "4                                                 NaN  2.000000     NaN   \n",
       "5                                                 NaN  2.000000     NaN   \n",
       "6                                                 NaN  2.000000     NaN   \n",
       "7                                                 NaN  2.000000     NaN   \n",
       "8                                                 NaN  2.000000     NaN   \n",
       "9                                                 NaN  2.000000     NaN   \n",
       "10                                                NaN  2.000000     NaN   \n",
       "\n",
       "    solver graph_id  failure          solver_name  vertices  edges  \\\n",
       "0        0        0      NaN  brute('FAST_BOUND')      1000   1000   \n",
       "1        0        1      NaN  brute('FAST_BOUND')      1000   1100   \n",
       "2        0        2      NaN  brute('FAST_BOUND')      1000   1200   \n",
       "3        0        3      NaN  brute('FAST_BOUND')      1000   1300   \n",
       "4        0        4  timeout  brute('FAST_BOUND')      1000   1400   \n",
       "5        0        5  timeout  brute('FAST_BOUND')      1000   1500   \n",
       "6        0        6  timeout  brute('FAST_BOUND')      1000   1600   \n",
       "7        0        7  timeout  brute('FAST_BOUND')      1000   1700   \n",
       "8        0        8  timeout  brute('FAST_BOUND')      1000   1800   \n",
       "9        0        9  timeout  brute('FAST_BOUND')      1000   1900   \n",
       "10       0       10  timeout  brute('FAST_BOUND')      1000   2000   \n",
       "\n",
       "    average_out_degree  \n",
       "0                  1.0  \n",
       "1                  1.1  \n",
       "2                  1.2  \n",
       "3                  1.3  \n",
       "4                  1.4  \n",
       "5                  1.5  \n",
       "6                  1.6  \n",
       "7                  1.7  \n",
       "8                  1.8  \n",
       "9                  1.9  \n",
       "10                 2.0  "
      ]
     },
     "execution_count": 5,
     "metadata": {},
     "output_type": "execute_result"
    }
   ],
   "source": [
    "df = benchmark.get_dataframe()\n",
    "df"
   ]
  },
  {
   "cell_type": "code",
   "execution_count": 6,
   "metadata": {},
   "outputs": [
    {
     "data": {
      "text/plain": [
       "run_time    Axes(0.125,0.11;0.775x0.77)\n",
       "dtype: object"
      ]
     },
     "execution_count": 6,
     "metadata": {},
     "output_type": "execute_result"
    },
    {
     "data": {
      "image/png": "[encoded data removed]",
      "text/plain": [
       "<Figure size 640x480 with 1 Axes>"
      ]
     },
     "metadata": {},
     "output_type": "display_data"
    }
   ],
   "source": [
    "df[df[\"solver\"] == 0][[\"run_time\", \"average_out_degree\"]].plot.box(by=\"average_out_degree\", logy=True)\n"
   ]
  },
  {
   "cell_type": "code",
   "execution_count": 7,
   "metadata": {},
   "outputs": [
    {
     "ename": "NameError",
     "evalue": "name 'solver_names' is not defined",
     "output_type": "error",
     "traceback": [
      "\u001b[0;31m---------------------------------------------------------------------------\u001b[0m",
      "\u001b[0;31mNameError\u001b[0m                                 Traceback (most recent call last)",
      "Cell \u001b[0;32mIn[7], line 10\u001b[0m\n\u001b[1;32m      3\u001b[0m to_plot \u001b[38;5;241m=\u001b[39m df\u001b[38;5;241m.\u001b[39mgroupby([\u001b[38;5;124m'\u001b[39m\u001b[38;5;124maverage_out_degree\u001b[39m\u001b[38;5;124m'\u001b[39m, \u001b[38;5;124m'\u001b[39m\u001b[38;5;124msolver\u001b[39m\u001b[38;5;124m'\u001b[39m, \u001b[38;5;124m'\u001b[39m\u001b[38;5;124msolver_name\u001b[39m\u001b[38;5;124m'\u001b[39m])\u001b[38;5;241m.\u001b[39magg({\u001b[38;5;124m'\u001b[39m\u001b[38;5;124mrun_time\u001b[39m\u001b[38;5;124m'\u001b[39m: \u001b[38;5;124m'\u001b[39m\u001b[38;5;124mmean\u001b[39m\u001b[38;5;124m'\u001b[39m})\u001b[38;5;241m.\u001b[39mreset_index() \\\n\u001b[1;32m      4\u001b[0m     \u001b[38;5;241m.\u001b[39mpivot(index\u001b[38;5;241m=\u001b[39m\u001b[38;5;124m'\u001b[39m\u001b[38;5;124maverage_out_degree\u001b[39m\u001b[38;5;124m'\u001b[39m, columns\u001b[38;5;241m=\u001b[39m\u001b[38;5;124m'\u001b[39m\u001b[38;5;124msolver_name\u001b[39m\u001b[38;5;124m'\u001b[39m, values\u001b[38;5;241m=\u001b[39m\u001b[38;5;124m'\u001b[39m\u001b[38;5;124mrun_time\u001b[39m\u001b[38;5;124m'\u001b[39m) \\\n\u001b[1;32m      5\u001b[0m     \u001b[38;5;241m.\u001b[39mrename(columns\u001b[38;5;241m=\u001b[39m\u001b[38;5;28;01mlambda\u001b[39;00m x: x \u001b[38;5;241m+\u001b[39m \u001b[38;5;124m\"\u001b[39m\u001b[38;5;124m (average)\u001b[39m\u001b[38;5;124m\"\u001b[39m);\n\u001b[1;32m      8\u001b[0m to_plot\u001b[38;5;241m.\u001b[39mplot(style\u001b[38;5;241m=\u001b[39m\u001b[38;5;124m\"\u001b[39m\u001b[38;5;124mo-\u001b[39m\u001b[38;5;124m\"\u001b[39m)\n\u001b[0;32m---> 10\u001b[0m \u001b[38;5;28;01mfor\u001b[39;00m solver_name \u001b[38;5;129;01min\u001b[39;00m \u001b[43msolver_names\u001b[49m:\n\u001b[1;32m     11\u001b[0m     solver_df \u001b[38;5;241m=\u001b[39m df[df[\u001b[38;5;124m\"\u001b[39m\u001b[38;5;124msolver_name\u001b[39m\u001b[38;5;124m\"\u001b[39m] \u001b[38;5;241m==\u001b[39m solver_name]  \u001b[38;5;66;03m# Select rows where run-time is not null\u001b[39;00m\n\u001b[1;32m     12\u001b[0m     plt\u001b[38;5;241m.\u001b[39mscatter(solver_df[\u001b[38;5;124m'\u001b[39m\u001b[38;5;124maverage_out_degree\u001b[39m\u001b[38;5;124m'\u001b[39m], solver_df[\u001b[38;5;124m'\u001b[39m\u001b[38;5;124mrun_time\u001b[39m\u001b[38;5;124m'\u001b[39m], label\u001b[38;5;241m=\u001b[39msolver_name, alpha\u001b[38;5;241m=\u001b[39m\u001b[38;5;241m0.5\u001b[39m, s\u001b[38;5;241m=\u001b[39m\u001b[38;5;241m10\u001b[39m)\n",
      "\u001b[0;31mNameError\u001b[0m: name 'solver_names' is not defined"
     ]
    },
    {
     "data": {
      "image/png": "[encoded data removed]",
      "text/plain": [
       "<Figure size 640x480 with 1 Axes>"
      ]
     },
     "metadata": {},
     "output_type": "display_data"
    }
   ],
   "source": [
    "view = df[['average_out_degree', 'solver_name','length', 'run_time']]\n",
    "\n",
    "to_plot = df.groupby(['average_out_degree', 'solver', 'solver_name']).agg({'run_time': 'mean'}).reset_index() \\\n",
    "    .pivot(index='average_out_degree', columns='solver_name', values='run_time') \\\n",
    "    .rename(columns=lambda x: x + \" (average)\");\n",
    "\n",
    "\n",
    "to_plot.plot(style=\"o-\")\n",
    "\n",
    "for solver_name in solver_names:\n",
    "    solver_df = df[df[\"solver_name\"] == solver_name]  # Select rows where run-time is not null\n",
    "    plt.scatter(solver_df['average_out_degree'], solver_df['run_time'], label=solver_name, alpha=0.5, s=10)\n",
    "\n",
    "plt.yscale('log')\n",
    "# plt.xticks(np.arange(1, 4.0, 0.5))\n",
    "plt.ylabel(\"run-time (seconds)\")\n",
    "plt.xlabel(\"Average out degree\")\n",
    "# plt.title(\"Longest path solve-time for random directed graphs with 50 vertices\")\n",
    "# plt.axhline(y=0.015, color='black', linestyle='--', label='run-time cutoff', linewidth=1, alpha=0.5, zorder=0)\n",
    "plt.legend(loc='center left', bbox_to_anchor=(1, 0.5))\n",
    "# df[df[\"solver\"] == 0].plot(x = \"average_degree\", y=\"run_time\", style=\"--bo\", label=\"solver_name\")\n",
    "# df[df[\"solver\"] == 1].plot(x = \"average_degree\", y=\"run_time\", style=\"--bo\", label=\"solver_name\")\n",
    "# plt.ylim(0, to_plot.max().max())\n",
    "\n",
    "plt.gcf().set_size_inches(8, 6)\n",
    "plt.savefig(os.path.join(benchmark.benchmark_path, \"plot.png\"), dpi=400, bbox_inches='tight')"
   ]
  },
  {
   "cell_type": "code",
   "execution_count": 51,
   "metadata": {},
   "outputs": [
    {
     "data": {
      "text/html": [
       "<div>\n",
       "<style scoped>\n",
       "    .dataframe tbody tr th:only-of-type {\n",
       "        vertical-align: middle;\n",
       "    }\n",
       "\n",
       "    .dataframe tbody tr th {\n",
       "        vertical-align: top;\n",
       "    }\n",
       "\n",
       "    .dataframe thead th {\n",
       "        text-align: right;\n",
       "    }\n",
       "</style>\n",
       "<table border=\"1\" class=\"dataframe\">\n",
       "  <thead>\n",
       "    <tr style=\"text-align: right;\">\n",
       "      <th></th>\n",
       "      <th>run_time</th>\n",
       "      <th>average_out_degree</th>\n",
       "    </tr>\n",
       "  </thead>\n",
       "  <tbody>\n",
       "    <tr>\n",
       "      <th>0</th>\n",
       "      <td>0.000010</td>\n",
       "      <td>1.0</td>\n",
       "    </tr>\n",
       "    <tr>\n",
       "      <th>1</th>\n",
       "      <td>0.000008</td>\n",
       "      <td>1.0</td>\n",
       "    </tr>\n",
       "    <tr>\n",
       "      <th>2</th>\n",
       "      <td>0.000012</td>\n",
       "      <td>1.0</td>\n",
       "    </tr>\n",
       "    <tr>\n",
       "      <th>3</th>\n",
       "      <td>0.000009</td>\n",
       "      <td>1.0</td>\n",
       "    </tr>\n",
       "    <tr>\n",
       "      <th>4</th>\n",
       "      <td>0.000010</td>\n",
       "      <td>1.0</td>\n",
       "    </tr>\n",
       "    <tr>\n",
       "      <th>...</th>\n",
       "      <td>...</td>\n",
       "      <td>...</td>\n",
       "    </tr>\n",
       "    <tr>\n",
       "      <th>104</th>\n",
       "      <td>0.000111</td>\n",
       "      <td>2.0</td>\n",
       "    </tr>\n",
       "    <tr>\n",
       "      <th>105</th>\n",
       "      <td>0.000697</td>\n",
       "      <td>2.0</td>\n",
       "    </tr>\n",
       "    <tr>\n",
       "      <th>106</th>\n",
       "      <td>0.001308</td>\n",
       "      <td>2.0</td>\n",
       "    </tr>\n",
       "    <tr>\n",
       "      <th>107</th>\n",
       "      <td>0.000577</td>\n",
       "      <td>2.0</td>\n",
       "    </tr>\n",
       "    <tr>\n",
       "      <th>109</th>\n",
       "      <td>0.000024</td>\n",
       "      <td>2.0</td>\n",
       "    </tr>\n",
       "  </tbody>\n",
       "</table>\n",
       "<p>110 rows × 2 columns</p>\n",
       "</div>"
      ],
      "text/plain": [
       "     run_time  average_out_degree\n",
       "0    0.000010                 1.0\n",
       "1    0.000008                 1.0\n",
       "2    0.000012                 1.0\n",
       "3    0.000009                 1.0\n",
       "4    0.000010                 1.0\n",
       "..        ...                 ...\n",
       "104  0.000111                 2.0\n",
       "105  0.000697                 2.0\n",
       "106  0.001308                 2.0\n",
       "107  0.000577                 2.0\n",
       "109  0.000024                 2.0\n",
       "\n",
       "[110 rows x 2 columns]"
      ]
     },
     "execution_count": 51,
     "metadata": {},
     "output_type": "execute_result"
    }
   ],
   "source": [
    "to_plot2 = df.groupby(\"solver\").get_group(0)[[\"run_time\", \"average_out_degree\"]].sort_values(by=\"average_out_degree\")\n",
    "to_plot2\n"
   ]
  },
  {
   "cell_type": "code",
   "execution_count": 22,
   "metadata": {},
   "outputs": [
    {
     "data": {
      "text/plain": [
       "<Axes: xlabel='average_out_degree'>"
      ]
     },
     "execution_count": 22,
     "metadata": {},
     "output_type": "execute_result"
    },
    {
     "data": {
      "image/png": "[encoded data removed]",
      "text/plain": [
       "<Figure size 640x480 with 1 Axes>"
      ]
     },
     "metadata": {},
     "output_type": "display_data"
    }
   ],
   "source": [
    "to_plot2.plot(x=\"average_out_degree\", y=\"run_time\")"
   ]
  },
  {
   "cell_type": "code",
   "execution_count": 56,
   "metadata": {},
   "outputs": [
    {
     "data": {
      "image/png": "[encoded data removed]",
      "text/plain": [
       "<Figure size 640x480 with 1 Axes>"
      ]
     },
     "metadata": {},
     "output_type": "display_data"
    }
   ],
   "source": [
    "rolling_window = 10\n",
    "df_smoothed = to_plot2.rolling(rolling_window, center=True).mean()\n",
    "df_std = to_plot2.rolling(rolling_window, center=True).std()\n",
    "\n",
    "# Plot the smoothed curve with error bars\n",
    "plt.errorbar(df_smoothed['average_out_degree'], df_smoothed['run_time'], yerr=df_std['run_time'], label='Smoothed Curve with Error Bars', errorevery=5, barsabove=True, ecolor=\"black\")\n",
    "plt.xlabel('X')\n",
    "plt.ylabel('Y')\n",
    "plt.yscale(\"log\")\n",
    "plt.title('Smoothed Line Curve with Error Bars')\n",
    "plt.legend()\n",
    "plt.grid(True)\n",
    "plt.show()"
   ]
  }
 ],
 "metadata": {
  "kernelspec": {
   "display_name": "tno-env",
   "language": "python",
   "name": "python3"
  },
  "language_info": {
   "codemirror_mode": {
    "name": "ipython",
    "version": 3
   },
   "file_extension": ".py",
   "mimetype": "text/x-python",
   "name": "python",
   "nbconvert_exporter": "python",
   "pygments_lexer": "ipython3",
   "version": "3.10.13"
  }
 },
 "nbformat": 4,
 "nbformat_minor": 2
}
