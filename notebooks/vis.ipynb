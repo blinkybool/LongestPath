{
 "cells": [
  {
   "cell_type": "code",
   "execution_count": 4,
   "metadata": {},
   "outputs": [
    {
     "name": "stdout",
     "output_type": "stream",
     "text": [
      "The autoreload extension is already loaded. To reload it, use:\n",
      "  %reload_ext autoreload\n"
     ]
    }
   ],
   "source": [
    "%load_ext autoreload\n",
    "%autoreload 2\n",
    "# Enable imports form top-level of project (edit top_level_path accordingly)\n",
    "import os\n",
    "import sys\n",
    "top_level_path = os.path.abspath(os.path.join('..'))\n",
    "if top_level_path not in sys.path:\n",
    "\tsys.path.append(top_level_path)"
   ]
  },
  {
   "cell_type": "code",
   "execution_count": 88,
   "metadata": {},
   "outputs": [
    {
     "name": "stdout",
     "output_type": "stream",
     "text": [
      "Server active: http://localhost:8080/\n"
     ]
    },
    {
     "name": "stderr",
     "output_type": "stream",
     "text": [
      "127.0.0.1 - - [20/Mar/2024 23:05:48] \"GET / HTTP/1.1\" 200 -\n",
      "127.0.0.1 - - [20/Mar/2024 23:05:49] \"GET /vis_data HTTP/1.1\" 200 -\n"
     ]
    },
    {
     "ename": "KeyboardInterrupt",
     "evalue": "",
     "output_type": "error",
     "traceback": [
      "\u001b[0;31m---------------------------------------------------------------------------\u001b[0m",
      "\u001b[0;31mKeyboardInterrupt\u001b[0m                         Traceback (most recent call last)",
      "Cell \u001b[0;32mIn[88], line 25\u001b[0m\n\u001b[1;32m     21\u001b[0m     vis_graph[\u001b[38;5;124m\"\u001b[39m\u001b[38;5;124mdata\u001b[39m\u001b[38;5;124m\"\u001b[39m][\u001b[38;5;124m\"\u001b[39m\u001b[38;5;124mlinks\u001b[39m\u001b[38;5;124m\"\u001b[39m] \u001b[38;5;241m=\u001b[39m [{\u001b[38;5;124m\"\u001b[39m\u001b[38;5;124msource\u001b[39m\u001b[38;5;124m\"\u001b[39m: i, \u001b[38;5;124m\"\u001b[39m\u001b[38;5;124mtarget\u001b[39m\u001b[38;5;124m\"\u001b[39m: j} \u001b[38;5;28;01mfor\u001b[39;00m i, j \u001b[38;5;129;01min\u001b[39;00m graph\u001b[38;5;241m.\u001b[39medges]\n\u001b[1;32m     22\u001b[0m     vis_data[\u001b[38;5;124m\"\u001b[39m\u001b[38;5;124mgraphs\u001b[39m\u001b[38;5;124m\"\u001b[39m]\u001b[38;5;241m.\u001b[39mappend(vis_graph)\n\u001b[0;32m---> 25\u001b[0m \u001b[43mserve_visualiser\u001b[49m\u001b[43m(\u001b[49m\u001b[43mvis_data\u001b[49m\u001b[43m)\u001b[49m\n",
      "File \u001b[0;32m~/LongestPath/visualise/__init__.py:26\u001b[0m, in \u001b[0;36mserve_visualiser\u001b[0;34m(vis_data)\u001b[0m\n\u001b[1;32m     24\u001b[0m \u001b[38;5;28;01mwith\u001b[39;00m socketserver\u001b[38;5;241m.\u001b[39mTCPServer((\u001b[38;5;124m\"\u001b[39m\u001b[38;5;124m\"\u001b[39m, PORT), CustomHandler) \u001b[38;5;28;01mas\u001b[39;00m httpd:\n\u001b[1;32m     25\u001b[0m     \u001b[38;5;28mprint\u001b[39m(\u001b[38;5;124mf\u001b[39m\u001b[38;5;124m\"\u001b[39m\u001b[38;5;124mServer active: http://localhost:\u001b[39m\u001b[38;5;132;01m{\u001b[39;00mPORT\u001b[38;5;132;01m}\u001b[39;00m\u001b[38;5;124m/\u001b[39m\u001b[38;5;124m\"\u001b[39m)\n\u001b[0;32m---> 26\u001b[0m     \u001b[43mhttpd\u001b[49m\u001b[38;5;241;43m.\u001b[39;49m\u001b[43mserve_forever\u001b[49m\u001b[43m(\u001b[49m\u001b[43m)\u001b[49m\n",
      "File \u001b[0;32m/opt/homebrew/Caskroom/miniconda/base/envs/tno-env/lib/python3.10/socketserver.py:232\u001b[0m, in \u001b[0;36mBaseServer.serve_forever\u001b[0;34m(self, poll_interval)\u001b[0m\n\u001b[1;32m    229\u001b[0m selector\u001b[38;5;241m.\u001b[39mregister(\u001b[38;5;28mself\u001b[39m, selectors\u001b[38;5;241m.\u001b[39mEVENT_READ)\n\u001b[1;32m    231\u001b[0m \u001b[38;5;28;01mwhile\u001b[39;00m \u001b[38;5;129;01mnot\u001b[39;00m \u001b[38;5;28mself\u001b[39m\u001b[38;5;241m.\u001b[39m__shutdown_request:\n\u001b[0;32m--> 232\u001b[0m     ready \u001b[38;5;241m=\u001b[39m \u001b[43mselector\u001b[49m\u001b[38;5;241;43m.\u001b[39;49m\u001b[43mselect\u001b[49m\u001b[43m(\u001b[49m\u001b[43mpoll_interval\u001b[49m\u001b[43m)\u001b[49m\n\u001b[1;32m    233\u001b[0m     \u001b[38;5;66;03m# bpo-35017: shutdown() called during select(), exit immediately.\u001b[39;00m\n\u001b[1;32m    234\u001b[0m     \u001b[38;5;28;01mif\u001b[39;00m \u001b[38;5;28mself\u001b[39m\u001b[38;5;241m.\u001b[39m__shutdown_request:\n",
      "File \u001b[0;32m/opt/homebrew/Caskroom/miniconda/base/envs/tno-env/lib/python3.10/selectors.py:416\u001b[0m, in \u001b[0;36m_PollLikeSelector.select\u001b[0;34m(self, timeout)\u001b[0m\n\u001b[1;32m    414\u001b[0m ready \u001b[38;5;241m=\u001b[39m []\n\u001b[1;32m    415\u001b[0m \u001b[38;5;28;01mtry\u001b[39;00m:\n\u001b[0;32m--> 416\u001b[0m     fd_event_list \u001b[38;5;241m=\u001b[39m \u001b[38;5;28;43mself\u001b[39;49m\u001b[38;5;241;43m.\u001b[39;49m\u001b[43m_selector\u001b[49m\u001b[38;5;241;43m.\u001b[39;49m\u001b[43mpoll\u001b[49m\u001b[43m(\u001b[49m\u001b[43mtimeout\u001b[49m\u001b[43m)\u001b[49m\n\u001b[1;32m    417\u001b[0m \u001b[38;5;28;01mexcept\u001b[39;00m \u001b[38;5;167;01mInterruptedError\u001b[39;00m:\n\u001b[1;32m    418\u001b[0m     \u001b[38;5;28;01mreturn\u001b[39;00m ready\n",
      "\u001b[0;31mKeyboardInterrupt\u001b[0m: "
     ]
    }
   ],
   "source": [
    "from visualise import serve_visualiser\n",
    "from benchmarking import Benchmark\n",
    "import pandas as pd\n",
    "\n",
    "benchmark = Benchmark.load(\"../benchmarks/random-2024-03-20--22-57-17\")\n",
    "\n",
    "vis_data = {\n",
    "    \"solvers\": [f\"{i}-{solver}\" for i, solver in enumerate(benchmark.solvers)],\n",
    "    \"graphs\": [],\n",
    "}\n",
    "\n",
    "results = benchmark.results()\n",
    "\n",
    "for graph_id, graph in benchmark.graphs:\n",
    "    vis_graph = {\n",
    "        \"graph_id\": graph_id,\n",
    "        \"data\": {},\n",
    "        \"results\": [result for result in results if result[\"graph_id\"] == graph_id],\n",
    "    }\n",
    "    vis_graph[\"data\"][\"nodes\"] = [{\"id\": i, \"path\": False} for i in range(graph.vertices)]\n",
    "    vis_graph[\"data\"][\"links\"] = [{\"source\": i, \"target\": j} for i, j in graph.edges]\n",
    "    vis_data[\"graphs\"].append(vis_graph)\n",
    "\n",
    "\n",
    "serve_visualiser(vis_data)"
   ]
  }
 ],
 "metadata": {
  "kernelspec": {
   "display_name": "tno-env",
   "language": "python",
   "name": "python3"
  },
  "language_info": {
   "codemirror_mode": {
    "name": "ipython",
    "version": 3
   },
   "file_extension": ".py",
   "mimetype": "text/x-python",
   "name": "python",
   "nbconvert_exporter": "python",
   "pygments_lexer": "ipython3",
   "version": "3.10.13"
  }
 },
 "nbformat": 4,
 "nbformat_minor": 2
}
