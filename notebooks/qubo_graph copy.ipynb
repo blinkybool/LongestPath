{
 "cells": [
  {
   "cell_type": "code",
   "execution_count": 17,
   "metadata": {},
   "outputs": [
    {
     "name": "stdout",
     "output_type": "stream",
     "text": [
      "The autoreload extension is already loaded. To reload it, use:\n",
      "  %reload_ext autoreload\n"
     ]
    }
   ],
   "source": [
    "%load_ext autoreload\n",
    "%autoreload 2\n",
    "# Enable imports form top-level of project (edit top_level_path accordingly)\n",
    "import os\n",
    "import sys\n",
    "top_level_path = os.path.abspath(os.path.join('..'))\n",
    "if top_level_path not in sys.path:\n",
    "\tsys.path.append(top_level_path)"
   ]
  },
  {
   "cell_type": "code",
   "execution_count": 18,
   "metadata": {},
   "outputs": [],
   "source": [
    "from pyqubo import Binary, Array, Num\n",
    "import numpy as np\n",
    "from dimod import ExactSolver\n",
    "import neal\n",
    "from longestpath import gen_average_degree_directed, gen_planted_path, StandardGraph\n",
    "\n",
    "import matplotlib.pyplot as plt"
   ]
  },
  {
   "cell_type": "code",
   "execution_count": 19,
   "metadata": {},
   "outputs": [
    {
     "name": "stdout",
     "output_type": "stream",
     "text": [
      "2\n",
      "3\n",
      "4\n",
      "5\n",
      "6\n",
      "7\n",
      "8\n",
      "9\n",
      "10\n",
      "11\n",
      "12\n"
     ]
    }
   ],
   "source": [
    "valids = [0 for i in range(2,13)]\n",
    "sizes = []\n",
    "implemented_l = range(2,13)\n",
    "\n",
    "for outer in implemented_l:\n",
    "    print(outer)\n",
    "    # graph = StandardGraph(5, [\n",
    "    # \t(0,1),\n",
    "    #     (1,2),\n",
    "    #     (2,3),\n",
    "    #     (3,4)\n",
    "    # ])\n",
    "\n",
    "    graph = gen_planted_path(outer, 0.5)\n",
    "\n",
    "    # max length\n",
    "    N = graph.vertices\n",
    "    M = outer\n",
    "\n",
    "    sizes.append(N)\n",
    "\n",
    "    p = M+1\n",
    "\n",
    "    matrix = graph.to_matrix()\n",
    "\n",
    "    vars = Array.create('x', shape=(M+1, N+1), vartype='BINARY')\n",
    "\n",
    "    import time\n",
    "\n",
    "    start = time.time()\n",
    "    serial_exp = Num(-p) * sum([(sum(block) - Num(1))**2 for block in vars]) + Num(0)\n",
    "    end = time.time()\n",
    "\n",
    "    #print(f\"Done with serial_exp : Took {end - start} seconds\")\n",
    "\n",
    "    #Seems to output same matrix as below\n",
    "    # serial_exp = Num(0)\n",
    "\n",
    "    # for m in range(M+1):\n",
    "    # \ttemp_exp = Num(-1)\n",
    "    # \tfor n in range(N+1):\n",
    "    # \t\ttemp_exp += vars[m][n]\n",
    "    # \tserial_exp += Num(-p) * temp_exp ** 2\n",
    "\n",
    "    no_repeat_blocks_exp = Num(0)\n",
    "\n",
    "    start = time.time()\n",
    "\n",
    "    for i in range(N):\n",
    "        #print(f\"{i} / {N-1}\")\n",
    "        for j in range(M):\n",
    "\n",
    "            no_repeat_blocks_exp += sum([vars[j][i] * vars[k][i] for k in range(j+1, M+1)])\n",
    "\n",
    "    # \t\tfor k in range(j+1, M+1):\n",
    "    # \t\t\tno_repeat_blocks_exp += vars[j][i] * vars[k][i] * Num(-p)\n",
    "    no_repeat_blocks_exp *= Num(-p)\n",
    "\n",
    "    end = time.time()\n",
    "\n",
    "    #print(f\"Done with no_repeatblocks_exp : Took {end - start} seconds\")\n",
    "\n",
    "    start = time.time()\n",
    "    edges_exp = Num(0)\n",
    "    for m in range(M):\n",
    "        for i in range(N):\n",
    "            for j in range(N):\n",
    "                if i == j:\n",
    "                    continue\n",
    "                \n",
    "                if matrix[i][j]:\n",
    "                    edges_exp += vars[m][i] * vars[m+1][j]\n",
    "                else:\n",
    "                    edges_exp += Num(-p) * vars[m][i] * vars[m+1][j]\n",
    "\n",
    "    for m in range(M):\n",
    "        for i in range(N):\n",
    "            edges_exp += Num(-p) * vars[m][N] * vars[m+1][i]\n",
    "\n",
    "    end = time.time()\n",
    "\n",
    "    #print(f\"Done with edges_exp : Took {end - start} seconds\")\n",
    "\n",
    "    def to_matrix(exp):\n",
    "        model = exp.compile()\n",
    "        qubo, energy_offset = model.to_qubo(index_label=True)\n",
    "\n",
    "        return np.matrix([[int(qubo.get((i,j), 0)) for j in range((M+1)*(N+1))] for i in range((M+1)*(N+1))])\n",
    "\n",
    "    total_exp = serial_exp + no_repeat_blocks_exp + edges_exp\n",
    "\n",
    "    exp = -total_exp\n",
    "\n",
    "    # print(to_matrix(total_exp))\n",
    "\n",
    "    start = time.time()\n",
    "\n",
    "    for inner in range(20):\n",
    "\n",
    "        model = exp.compile()\n",
    "        bqm = model.to_bqm()\n",
    "\n",
    "        sa = neal.SimulatedAnnealingSampler()\n",
    "        sampleset = sa.sample(bqm, num_reads=200, num_sweeps=100)\n",
    "        decoded_samples = model.decode_sampleset(sampleset)\n",
    "        best_sample = min(decoded_samples, key=lambda x: x.energy)\n",
    "        #print(best_sample.energy)\n",
    "\n",
    "        end = time.time()\n",
    "\n",
    "        #print(f\"Solving took {end - start} seconds\")\n",
    "\n",
    "        if -best_sample.energy >= 0:\n",
    "            valids[outer - 2] += 1\n",
    "\n",
    "    # sampleset = ExactSolver().sample(bqm)\n",
    "    # decoded_samples = model.decode_sampleset(sampleset)\n",
    "    # best_sample = max(decoded_samples, key=lambda s: s.energy)\n",
    "    # print(best_sample.energy)\n",
    "\n",
    "#print(sizes)\n",
    "#print(lengthss)\n",
    "\n",
    "avarages = [s for s in valids]\n",
    "#print(avarages)\n",
    "#print(implemented_l)\n",
    "#print(rel_errors)\n"
   ]
  },
  {
   "cell_type": "code",
   "execution_count": 20,
   "metadata": {},
   "outputs": [
    {
     "data": {
      "text/plain": [
       "Text(0, 0.5, 'valid paths found')"
      ]
     },
     "execution_count": 20,
     "metadata": {},
     "output_type": "execute_result"
    },
    {
     "data": {
      "image/png": "[encoded data removed]",
      "text/plain": [
       "<Figure size 640x480 with 1 Axes>"
      ]
     },
     "metadata": {},
     "output_type": "display_data"
    }
   ],
   "source": [
    "x1 = [0]\n",
    "for i in sizes:\n",
    "    x1.append(i)\n",
    "\n",
    "y1 = [1]\n",
    "for i in avarages:\n",
    "    y1.append(i)\n",
    "\n",
    "plt.plot(sizes, avarages)\n",
    "plt.title(\"QUBO solver : valid paths out of 20\")\n",
    "plt.xlabel(\"vertices\")\n",
    "plt.ylabel(\"valid paths found\")"
   ]
  }
 ],
 "metadata": {
  "kernelspec": {
   "display_name": "Python 3",
   "language": "python",
   "name": "python3"
  },
  "language_info": {
   "codemirror_mode": {
    "name": "ipython",
    "version": 3
   },
   "file_extension": ".py",
   "mimetype": "text/x-python",
   "name": "python",
   "nbconvert_exporter": "python",
   "pygments_lexer": "ipython3",
   "version": "3.10.0"
  }
 },
 "nbformat": 4,
 "nbformat_minor": 2
}
