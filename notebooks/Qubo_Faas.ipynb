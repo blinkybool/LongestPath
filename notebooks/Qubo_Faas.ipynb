{
 "cells": [
  {
   "cell_type": "code",
   "execution_count": 160,
   "metadata": {},
   "outputs": [
    {
     "name": "stdout",
     "output_type": "stream",
     "text": [
      "The autoreload extension is already loaded. To reload it, use:\n",
      "  %reload_ext autoreload\n"
     ]
    }
   ],
   "source": [
    "%load_ext autoreload\n",
    "%autoreload 2\n",
    "# Enable imports form top-level of project (edit top_level_path accordingly)\n",
    "import os\n",
    "import sys\n",
    "top_level_path = os.path.abspath(os.path.join('..'))\n",
    "if top_level_path not in sys.path:\n",
    "\tsys.path.append(top_level_path)"
   ]
  },
  {
   "cell_type": "code",
   "execution_count": 161,
   "metadata": {},
   "outputs": [],
   "source": [
    "from pyqubo import Binary, Array, Num\n",
    "import numpy as np\n",
    "from dimod import ExactSolver\n",
    "import neal\n",
    "from longestpath import gen_average_degree_directed, gen_planted_path, StandardGraph\n",
    "from typing import List, Tuple, Callable\n",
    "from math import log2, floor"
   ]
  },
  {
   "cell_type": "code",
   "execution_count": 162,
   "metadata": {},
   "outputs": [],
   "source": [
    "def make_tail_graph(graph : StandardGraph, tail_length : int) -> StandardGraph:\n",
    "\n",
    "\tif tail_length == 0:\n",
    "\t\ttail_graph = StandardGraph(0, [])\n",
    "\t\ttail_graph.vertices += graph.vertices\n",
    "\t\ttail_graph.edges = graph.edges.copy()\n",
    "\t\treturn tail_graph\n",
    "\n",
    "\ttail_graph = StandardGraph(0, [])\n",
    "\ttail_graph.vertices += graph.vertices + tail_length\n",
    "\ttail_graph.edges = graph.edges.copy()\n",
    "\t\n",
    "\tfor i in range(0,graph.vertices):\n",
    "\t\ttail_graph.edges.append((i,graph.vertices))\n",
    "\t\n",
    "\tfor i in range(graph.vertices , graph.vertices + tail_length - 1):\n",
    "\t\ttail_graph.edges.append((i, i+1))\n",
    "\n",
    "\treturn tail_graph\n",
    "\n",
    "\n",
    "def make_vertex_edges(graph : StandardGraph) -> List[List[int]] :\n",
    "\tout = [[] for i in range(graph.vertices)]\n",
    "\n",
    "\tfor i in range(len(graph.edges)):\n",
    "\t\t(v_1, v_2) = graph.edges[i]\n",
    "\t\t\n",
    "\t\t#out[v_1].append((i,v_1,v_2))\n",
    "\t\t#out[v_2].append((i,v_1,v_2))\n",
    "\t\tout[v_1].append(i)\n",
    "\t\tout[v_2].append(i)\n",
    "\t\n",
    "\treturn out"
   ]
  },
  {
   "cell_type": "code",
   "execution_count": 163,
   "metadata": {},
   "outputs": [
    {
     "name": "stdout",
     "output_type": "stream",
     "text": [
      "[(0, 1), (1, 2)]\n",
      "[(0, 1), (1, 2), (0, 3), (1, 3), (2, 3), (3, 4)]\n",
      "\n",
      "0 : [0]\n",
      "1 : [0, 1]\n",
      "2 : [1]\n",
      "\n",
      "0 : [0, 2]\n",
      "1 : [0, 1, 3]\n",
      "2 : [1, 4]\n",
      "3 : [2, 3, 4, 5]\n",
      "4 : [5]\n"
     ]
    }
   ],
   "source": [
    "graph = StandardGraph(3, [\n",
    "\t(0,1),\n",
    "    (1,2),\n",
    "])\n",
    "\n",
    "# graph = gen_planted_path(10, 0.05)\n",
    "\n",
    "# max length\n",
    "N = graph.vertices\n",
    "K = N - 1\n",
    "\n",
    "P = -N**2\n",
    "\n",
    "#binaries = range(floor(log2(K)) + 1)\n",
    "\n",
    "tail_graph = make_tail_graph(graph, K)\n",
    "\n",
    "vertex_edges = make_vertex_edges(graph)\n",
    "tail_vertex_edges = make_vertex_edges(tail_graph)\n",
    "\n",
    "binaries = []\n",
    "n=0\n",
    "while n <= floor(log2(K)):\n",
    "    binaries.append(n)\n",
    "    n += 1\n",
    "\n",
    "print(graph.edges)\n",
    "print(tail_graph.edges)\n",
    "print()\n",
    "\n",
    "for i in range(len(vertex_edges)):\n",
    "    print(f\"{i} : {vertex_edges[i]}\")\n",
    "print()\n",
    "\n",
    "for i in range(len(tail_vertex_edges)):\n",
    "    print(f\"{i} : {tail_vertex_edges[i]}\")\n",
    "\n"
   ]
  },
  {
   "cell_type": "code",
   "execution_count": 164,
   "metadata": {},
   "outputs": [
    {
     "name": "stdout",
     "output_type": "stream",
     "text": [
      "((Binary('init_edge[0]') + Binary('term_edge[0]')) + Binary('edge[2]') + 0.000000 + Binary('edge[0]'))\n",
      "\n",
      "((Binary('init_edge[1]') + Binary('term_edge[1]')) + Binary('edge[3]') + Binary('edge[1]') + 0.000000 + Binary('edge[0]'))\n",
      "\n",
      "((Binary('init_edge[2]') + Binary('term_edge[2]')) + Binary('edge[4]') + 0.000000 + Binary('edge[1]'))\n",
      "\n",
      "((Binary('init_edge[3]') + Binary('term_edge[3]')) + Binary('edge[5]') + Binary('edge[4]') + Binary('edge[3]') + 0.000000 + Binary('edge[2]'))\n",
      "\n",
      "((Binary('init_edge[4]') + Binary('term_edge[4]')) + 0.000000 + Binary('edge[5]'))\n",
      "\n",
      "(-25.000000 * ((((-1.000000 * Binary('term_edge[8]')) + (-1.000000 * Binary('edge[5]')) + (2.000000 * Binary('vertex[8]')) + (-1.000000 * Binary('edge[4]'))) * ((-1.000000 * Binary('term_edge[8]')) + (-1.000000 * Binary('edge[5]')) + (2.000000 * Binary('vertex[8]')) + (-1.000000 * Binary('edge[4]')))) + (((-1.000000 * Binary('term_edge[7]')) + (-1.000000 * Binary('edge[5]')) + (2.000000 * Binary('vertex[7]')) + (-1.000000 * Binary('edge[4]'))) * ((-1.000000 * Binary('term_edge[7]')) + (-1.000000 * Binary('edge[5]')) + (2.000000 * Binary('vertex[7]')) + (-1.000000 * Binary('edge[4]')))) + 0.000000 + (((-1.000000 * Binary('term_edge[6]')) + (-1.000000 * Binary('edge[5]')) + (2.000000 * Binary('vertex[6]')) + (-1.000000 * Binary('edge[4]'))) * ((-1.000000 * Binary('term_edge[6]')) + (-1.000000 * Binary('edge[5]')) + (2.000000 * Binary('vertex[6]')) + (-1.000000 * Binary('edge[4]'))))))\n"
     ]
    }
   ],
   "source": [
    "\n",
    "\n",
    "vertex_vars = Array.create('vertex', tail_graph.vertices, vartype='BINARY')\n",
    "edge_vars = Array.create('edge', len(tail_graph.edges), vartype='BINARY')\n",
    "initial_edge_vars = Array.create('init_edge', tail_graph.vertices, vartype='BINARY')\n",
    "terminal_edge_vars = Array.create('term_edge', tail_graph.vertices, vartype='BINARY') \n",
    "\n",
    "flow_vars = Array.create('flow', shape=(len(binaries), len(tail_graph.edges)), vartype='BINARY') #a variables\n",
    "contra_flow_vars = Array.create('contra_flow', shape=(len(binaries), len(tail_graph.edges)), vartype='BINARY') #b variables\n",
    "\n",
    "flow_vars_sums = [0 for _ in tail_graph.edges]\n",
    "contra_flow_vars_sums = [0 for _ in tail_graph.edges]\n",
    "n = 0\n",
    "for n in binaries:\n",
    "\tfor i in range(len(tail_graph.edges)):\n",
    "\t\tflow_vars_sums[i] += 2**n * flow_vars[n][i]\n",
    "\t\tcontra_flow_vars_sums[i] += 2**n * contra_flow_vars[n][i]\n",
    "\n",
    "#(1)\n",
    "candy_exp = sum(edge_vars[i] for i in range(len(graph.edges)))\n",
    "\n",
    "#(2)\n",
    "initial_node_exp = P * (1 - sum(initial_edge_vars[i] for i in range(graph.vertices)))**2\n",
    "\n",
    "#(3)\n",
    "terminal_node_exp = P * (1 - sum(terminal_edge_vars[i] for i in range(tail_graph.vertices)))**2\n",
    "\n",
    "#(4)\n",
    "fake_terminal_node_exp_1 = P * (vertex_vars[graph.vertices] - sum(edge_vars[i] for i in range( len(graph.edges), len(graph.edges) + graph.vertices)))**2\n",
    "\n",
    "fake_terminal_node_exp_2 = P * (1 - vertex_vars[graph.vertices]) * vertex_vars[graph.vertices + 1]\n",
    "\n",
    "#(5) and (6) can be together\n",
    "real_node_deg_2_exp = 0\n",
    "for i in range(tail_graph.vertices):\n",
    "\ttemp1 = sum(edge_vars[tail_vertex_edges[i][j]] for j in range(len(tail_vertex_edges[i])))\n",
    "\ttemp1 += initial_edge_vars[i] + terminal_edge_vars[i]\n",
    "\n",
    "\t# temp = sum(edge_vars[vertex_edges[i][j]] for j in range(len(vertex_edges[i])))\n",
    "\t# temp += initial_edge_vars[i] + terminal_edge_vars[i] + edge_vars[graph.vertices + i]\n",
    "\n",
    "\tprint(temp1)\n",
    "\t# print(\"------\")\n",
    "\t# print(temp)\n",
    "\tprint()\n",
    "\n",
    "\treal_node_deg_2_exp += P * (2 * vertex_vars[i] - temp1)**2\n",
    "\n",
    "#(6)\n",
    "# tail_node_deg_2_exp = 0\n",
    "# k = 0\n",
    "# for i in range(graph.vertices + 1, tail_graph.vertices):\n",
    "# \ttail_node_deg_2_exp += (2 * vertex_vars[i] - edge_vars[len(graph.edges) + k] - edge_vars[len(graph.edges) + k + 1] - terminal_edge_vars[i])**2\n",
    "# \t#print((2 * vertex_vars[i] - edge_vars[len(graph.edges) + k] - edge_vars[len(graph.edges) + k + 1] - terminal_edge_vars[i])**2)\n",
    "# tail_node_deg_2_exp = P * tail_node_deg_2_exp\n",
    "\n",
    "print(tail_node_deg_2_exp)\n",
    "\n",
    "#(7)\n",
    "labeling_edges_exp = P * sum([((K + 3) * edge_vars[i] - flow_vars_sums[i] - contra_flow_vars_sums[i])**2 for i in range(len(edge_vars))])\n",
    "\n",
    "# skip (8) BAD\n",
    "\n",
    "#(9)\n",
    "incomming_flow_exp = 0\n",
    "for i in range(tail_graph.vertices):\n",
    "\ttemp_exp = (2 * K + 6) * vertex_vars[i]\n",
    "\n",
    "\tfor j in tail_vertex_edges[i]:\n",
    "\t\ttemp_exp -= flow_vars_sums[j]\n",
    "\n",
    "\t\tfor k in tail_vertex_edges[i]:\n",
    "\t\t\tif k != j:\n",
    "\t\t\t\ttemp_exp -= contra_flow_vars_sums[k]\n",
    "\t\n",
    "\tincomming_flow_exp += temp_exp**2\n",
    "incomming_flow_exp = P * incomming_flow_exp\n",
    "\n",
    "\n",
    "\n",
    "\n"
   ]
  },
  {
   "cell_type": "markdown",
   "metadata": {},
   "source": []
  },
  {
   "cell_type": "code",
   "execution_count": 165,
   "metadata": {},
   "outputs": [
    {
     "name": "stdout",
     "output_type": "stream",
     "text": [
      "-2.0\n",
      "<bound method PyCapsule.array of DecodedSolution({edge[0]:1, edge[1]:1, init_edge[1]:0, edge[2]:0, init_edge[0]:0, term_edge[4]:0, edge[3]:0, term_edge[3]:0, edge[4]:0, term_edge[2]:0, edge[5]:0, init_edge[2]:1, init_edge[3]:0, init_edge[4]:0, term_edge[0]:1, term_edge[1]:0, vertex[0]:1, vertex[1]:1, vertex[2]:1, vertex[3]:0, vertex[4]:0}, energy=-2.000000)>\n",
      "[(0, 1), (1, 2), (0, 3), (1, 3), (2, 3), (3, 4)]\n"
     ]
    }
   ],
   "source": [
    "labeling_edges_exp = 0\n",
    "incomming_flow_exp = 0\n",
    "\n",
    "total_exp = candy_exp + initial_node_exp + terminal_node_exp + fake_terminal_node_exp_1 + fake_terminal_node_exp_2 + real_node_deg_2_exp + labeling_edges_exp + incomming_flow_exp\n",
    "# + tail_node_deg_2_exp # (6) is included in (5).\n",
    "\n",
    "exp = -total_exp\n",
    "\n",
    "model = exp.compile()\n",
    "bqm = model.to_bqm()\n",
    "\n",
    "sa = neal.SimulatedAnnealingSampler()\n",
    "sampleset = sa.sample(bqm, num_reads=100)\n",
    "decoded_samples = model.decode_sampleset(sampleset)\n",
    "best_sample = min(decoded_samples, key=lambda x: x.energy)\n",
    "print(best_sample.energy)\n",
    "\n",
    "print(best_sample.array)\n",
    "print(tail_graph.edges)"
   ]
  }
 ],
 "metadata": {
  "kernelspec": {
   "display_name": "Python 3",
   "language": "python",
   "name": "python3"
  },
  "language_info": {
   "codemirror_mode": {
    "name": "ipython",
    "version": 3
   },
   "file_extension": ".py",
   "mimetype": "text/x-python",
   "name": "python",
   "nbconvert_exporter": "python",
   "pygments_lexer": "ipython3",
   "version": "3.10.0"
  }
 },
 "nbformat": 4,
 "nbformat_minor": 2
}
