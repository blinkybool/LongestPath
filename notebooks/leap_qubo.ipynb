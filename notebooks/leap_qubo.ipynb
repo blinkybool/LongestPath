{
 "cells": [
  {
   "cell_type": "code",
   "execution_count": 2,
   "metadata": {},
   "outputs": [],
   "source": [
    "%load_ext autoreload\n",
    "%autoreload 2\n",
    "# Enable imports form top-level of project (edit top_level_path accordingly)\n",
    "import os\n",
    "import sys\n",
    "top_level_path = os.path.abspath(os.path.join('..'))\n",
    "if top_level_path not in sys.path:\n",
    "\tsys.path.append(top_level_path)"
   ]
  },
  {
   "cell_type": "code",
   "execution_count": 3,
   "metadata": {},
   "outputs": [
    {
     "data": {
      "text/plain": [
       "<benchmarking.Benchmark at 0x145b591e0>"
      ]
     },
     "execution_count": 3,
     "metadata": {},
     "output_type": "execute_result"
    }
   ],
   "source": [
    "from benchmarking import Benchmark, new_random_benchmark, RandomParams\n",
    "from longestpath.solvers import Solver\n",
    "import numpy as np\n",
    "\n",
    "params_code = \"[RandomParams(directed=True, num_vertices=50, num_edges=round(50*2.5))]\"\n",
    "params_list = eval(params_code)\n",
    "solvers = [Solver(\"brute\", \"BRANCH_N_BOUND\"), Solver(\"qubo\", sampler_kwargs= {'num_reads': 10_000, 'num_sweeps': 1000, 'beta_range': (0.1, 5)})]\n",
    "benchmark_path = os.path.join(top_level_path, \"benchmarks\", \"leap_qubo_50\")\n",
    "\n",
    "new_random_benchmark(params_list=params_list, params_code=params_code, solvers=solvers, override_benchmark_path=benchmark_path)"
   ]
  },
  {
   "cell_type": "code",
   "execution_count": 5,
   "metadata": {},
   "outputs": [
    {
     "name": "stdout",
     "output_type": "stream",
     "text": [
      "graph: 0.txt, solver: qubo(sampler_kwargs={'num_reads': 10000, 'num_sweeps': 1000, 'beta_range': [0.1, 5]}) ... ✅\n",
      "length: 36, run_time: 60.559833458042704\n"
     ]
    }
   ],
   "source": [
    "from longestpath.qubo import QUBOSolver\n",
    "\n",
    "benchmark = Benchmark.load(benchmark_path)\n",
    "\n",
    "benchmark.run(retryFailures=True)"
   ]
  },
  {
   "cell_type": "code",
   "execution_count": 8,
   "metadata": {},
   "outputs": [
    {
     "ename": "FileNotFoundError",
     "evalue": "[Errno 2] No such file or directory: '/Users/billy/LongestPath/benchmarks/leap_qubo_50/leap_result.json/w'",
     "output_type": "error",
     "traceback": [
      "\u001b[0;31m---------------------------------------------------------------------------\u001b[0m",
      "\u001b[0;31mFileNotFoundError\u001b[0m                         Traceback (most recent call last)",
      "Cell \u001b[0;32mIn[8], line 14\u001b[0m\n\u001b[1;32m     10\u001b[0m sampleset \u001b[38;5;241m=\u001b[39m sampler\u001b[38;5;241m.\u001b[39msample(qubo_solver\u001b[38;5;241m.\u001b[39mget_bqm(), time_limit\u001b[38;5;241m=\u001b[39m\u001b[38;5;241m10\u001b[39m)\n\u001b[1;32m     12\u001b[0m result \u001b[38;5;241m=\u001b[39m qubo_solver\u001b[38;5;241m.\u001b[39msample_to_result(sampleset\u001b[38;5;241m.\u001b[39mfirst)\n\u001b[0;32m---> 14\u001b[0m \u001b[38;5;28;01mwith\u001b[39;00m \u001b[38;5;28;43mopen\u001b[39;49m\u001b[43m(\u001b[49m\u001b[43mos\u001b[49m\u001b[38;5;241;43m.\u001b[39;49m\u001b[43mpath\u001b[49m\u001b[38;5;241;43m.\u001b[39;49m\u001b[43mjoin\u001b[49m\u001b[43m(\u001b[49m\u001b[43mbenchmark_path\u001b[49m\u001b[43m,\u001b[49m\u001b[43m \u001b[49m\u001b[38;5;124;43m\"\u001b[39;49m\u001b[38;5;124;43mleap_result.json\u001b[39;49m\u001b[38;5;124;43m\"\u001b[39;49m\u001b[43m,\u001b[49m\u001b[43m \u001b[49m\u001b[38;5;124;43m\"\u001b[39;49m\u001b[38;5;124;43mw\u001b[39;49m\u001b[38;5;124;43m\"\u001b[39;49m\u001b[43m)\u001b[49m\u001b[43m)\u001b[49m \u001b[38;5;28;01mas\u001b[39;00m f:\n\u001b[1;32m     15\u001b[0m     json\u001b[38;5;241m.\u001b[39mdump(result, f)\n",
      "File \u001b[0;32m/opt/homebrew/Caskroom/miniconda/base/envs/tno-env/lib/python3.10/site-packages/IPython/core/interactiveshell.py:310\u001b[0m, in \u001b[0;36m_modified_open\u001b[0;34m(file, *args, **kwargs)\u001b[0m\n\u001b[1;32m    303\u001b[0m \u001b[38;5;28;01mif\u001b[39;00m file \u001b[38;5;129;01min\u001b[39;00m {\u001b[38;5;241m0\u001b[39m, \u001b[38;5;241m1\u001b[39m, \u001b[38;5;241m2\u001b[39m}:\n\u001b[1;32m    304\u001b[0m     \u001b[38;5;28;01mraise\u001b[39;00m \u001b[38;5;167;01mValueError\u001b[39;00m(\n\u001b[1;32m    305\u001b[0m         \u001b[38;5;124mf\u001b[39m\u001b[38;5;124m\"\u001b[39m\u001b[38;5;124mIPython won\u001b[39m\u001b[38;5;124m'\u001b[39m\u001b[38;5;124mt let you open fd=\u001b[39m\u001b[38;5;132;01m{\u001b[39;00mfile\u001b[38;5;132;01m}\u001b[39;00m\u001b[38;5;124m by default \u001b[39m\u001b[38;5;124m\"\u001b[39m\n\u001b[1;32m    306\u001b[0m         \u001b[38;5;124m\"\u001b[39m\u001b[38;5;124mas it is likely to crash IPython. If you know what you are doing, \u001b[39m\u001b[38;5;124m\"\u001b[39m\n\u001b[1;32m    307\u001b[0m         \u001b[38;5;124m\"\u001b[39m\u001b[38;5;124myou can use builtins\u001b[39m\u001b[38;5;124m'\u001b[39m\u001b[38;5;124m open.\u001b[39m\u001b[38;5;124m\"\u001b[39m\n\u001b[1;32m    308\u001b[0m     )\n\u001b[0;32m--> 310\u001b[0m \u001b[38;5;28;01mreturn\u001b[39;00m \u001b[43mio_open\u001b[49m\u001b[43m(\u001b[49m\u001b[43mfile\u001b[49m\u001b[43m,\u001b[49m\u001b[43m \u001b[49m\u001b[38;5;241;43m*\u001b[39;49m\u001b[43margs\u001b[49m\u001b[43m,\u001b[49m\u001b[43m \u001b[49m\u001b[38;5;241;43m*\u001b[39;49m\u001b[38;5;241;43m*\u001b[39;49m\u001b[43mkwargs\u001b[49m\u001b[43m)\u001b[49m\n",
      "\u001b[0;31mFileNotFoundError\u001b[0m: [Errno 2] No such file or directory: '/Users/billy/LongestPath/benchmarks/leap_qubo_50/leap_result.json/w'"
     ]
    }
   ],
   "source": [
    "import json\n",
    "from dwave.system import LeapHybridSampler\n",
    "\n",
    "graph_id, graph = benchmark.graphs[0]\n",
    "\n",
    "qubo_solver = QUBOSolver(graph)\n",
    "sampler = LeapHybridSampler()\n",
    "# sampler.min_time_limit(qubo_solver.get_bqm())\n",
    "\n",
    "sampleset = sampler.sample(qubo_solver.get_bqm(), time_limit=60)\n",
    "\n",
    "result = qubo_solver.sample_to_result(sampleset.first)"
   ]
  },
  {
   "cell_type": "code",
   "execution_count": 50,
   "metadata": {},
   "outputs": [],
   "source": [
    "# benchmark = Benchmark.load(benchmark_path)\n",
    "# benchmark.add_solver(Solver(\"qubo\", use_leap=True, sampler_kwargs={'time_limit': 60}))"
   ]
  },
  {
   "cell_type": "code",
   "execution_count": 52,
   "metadata": {},
   "outputs": [
    {
     "name": "stdout",
     "output_type": "stream",
     "text": [
      "graph: 0.txt, solver: qubo(use_leap=True, sampler_kwargs={'time_limit': 60}) ... ✅\n",
      "length: 34, run_time: 84.33193629095331\n"
     ]
    }
   ],
   "source": [
    "benchmark = Benchmark.load(benchmark_path)\n",
    "benchmark.run()"
   ]
  }
 ],
 "metadata": {
  "kernelspec": {
   "display_name": "tno-env",
   "language": "python",
   "name": "python3"
  },
  "language_info": {
   "codemirror_mode": {
    "name": "ipython",
    "version": 3
   },
   "file_extension": ".py",
   "mimetype": "text/x-python",
   "name": "python",
   "nbconvert_exporter": "python",
   "pygments_lexer": "ipython3",
   "version": "3.10.13"
  }
 },
 "nbformat": 4,
 "nbformat_minor": 2
}
