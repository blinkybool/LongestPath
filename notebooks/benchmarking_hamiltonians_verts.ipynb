{
 "cells": [
  {
   "cell_type": "code",
   "execution_count": 1,
   "metadata": {},
   "outputs": [],
   "source": [
    "%load_ext autoreload\n",
    "%autoreload 2\n",
    "# Enable imports form top-level of project (edit top_level_path accordingly)\n",
    "import os\n",
    "import sys\n",
    "import inspect\n",
    "\n",
    "top_level_path = os.path.abspath(os.path.join('..'))\n",
    "if top_level_path not in sys.path:\n",
    "\tsys.path.append(top_level_path)\n",
    "\n",
    "import pandas as pd\n",
    "import matplotlib.pyplot as plt\n",
    "import numpy as np\n",
    "import os\n",
    "from longestpath.gen import gen_num_edges, gen_num_edges_undirected, gen_planted_hamiltonian_undirected_fixed_degree\n",
    "from benchmarking import RandomParams, Benchmark, new_random_benchmark, Solver, new_graph_file_benchmark, new_benchmark\n",
    "import re"
   ]
  },
  {
   "cell_type": "code",
   "execution_count": 51,
   "metadata": {},
   "outputs": [
    {
     "data": {
      "text/plain": [
       "'../benchmarks/ham_test(31)'"
      ]
     },
     "execution_count": 51,
     "metadata": {},
     "output_type": "execute_result"
    }
   ],
   "source": [
    "def generate():\n",
    "  return [\n",
    "    gen_planted_hamiltonian_undirected_fixed_degree(30, round(30 * deg / 2))\n",
    "    for deg in np.linspace(1.0, 10.0, 10) for _ in range(1)\n",
    "  ]\n",
    "\t# return [\n",
    "\t# \tgen_planted_hamiltonian_undirected_fixed_degree(round(verts), round(verts * 8 / 2))\n",
    "\t# \tfor verts in np.linspace(10, 30, 10) for _ in range(5)\n",
    "\t# ]\n",
    "\n",
    "params_code = inspect.getsource(generate)\n",
    "graphs = generate()\n",
    "\n",
    "benchmark = new_benchmark(graphs, solvers=[\n",
    "\t# Solver(\"brute\", \"FAST_BOUND\"),\n",
    "\t# Solver(\"brute\", \"BRUTE_FORCE\"),\n",
    "\t# Solver(\"brute\", \"BRANCH_N_BOUND\"),\n",
    "\t# Solver(\"brute\", \"BRUTE_FORCE_COMPLETE\"),\n",
    "\t# Solver(\"ilp\"),\n",
    "\t# Solver(\"kalp\", threads=4),\n",
    "\tSolver(\"kalp\"),\n",
    "], params_code = params_code, override_benchmark_path=\"../benchmarks/ham_test\")\n",
    "\n",
    "benchmark.benchmark_path\n"
   ]
  },
  {
   "cell_type": "code",
   "execution_count": 38,
   "metadata": {},
   "outputs": [
    {
     "data": {
      "text/plain": [
       "array([10.        , 12.22222222, 14.44444444, 16.66666667, 18.88888889,\n",
       "       21.11111111, 23.33333333, 25.55555556, 27.77777778, 30.        ])"
      ]
     },
     "execution_count": 38,
     "metadata": {},
     "output_type": "execute_result"
    }
   ],
   "source": [
    "np.linspace(10, 30, 10)"
   ]
  },
  {
   "cell_type": "code",
   "execution_count": 41,
   "metadata": {},
   "outputs": [],
   "source": [
    "benchmark = Benchmark.load(\"../benchmarks/ham_test(25)\")"
   ]
  },
  {
   "cell_type": "code",
   "execution_count": 52,
   "metadata": {},
   "outputs": [
    {
     "name": "stdout",
     "output_type": "stream",
     "text": [
      "graph: 0.txt, solver: kalp() ... ham!\n",
      "✅\n",
      "length: 29, run_time: 1.8324573222344043\n",
      "graph: 1.txt, solver: kalp() ... ham!\n",
      "✅\n",
      "length: 29, run_time: 1.4871613950526807\n",
      "graph: 2.txt, solver: kalp() ... ham!\n",
      "✅\n",
      "length: 29, run_time: 1.4474245070741745\n",
      "graph: 3.txt, solver: kalp() ... ham!\n",
      "✅\n",
      "length: 29, run_time: 1.430120398159488\n",
      "graph: 4.txt, solver: kalp() ... ham!\n",
      "✅\n",
      "length: 29, run_time: 1.3805809451441746\n",
      "graph: 5.txt, solver: kalp() ... ham!\n",
      "✅\n",
      "length: 29, run_time: 1.4463591759849805\n",
      "graph: 6.txt, solver: kalp() ... ham!\n",
      "✅\n",
      "length: 29, run_time: 1.5505605539656244\n",
      "graph: 7.txt, solver: kalp() ... ham!\n",
      "✅\n",
      "length: 29, run_time: 1.6030170850426657\n",
      "graph: 8.txt, solver: kalp() ... ham!\n",
      "✅\n",
      "length: 29, run_time: 1.4930387959029758\n",
      "graph: 9.txt, solver: kalp() ... ham!\n",
      "✅\n",
      "length: 29, run_time: 1.6930174350127345\n",
      "graph: 10.txt, solver: kalp() ... ham!\n",
      "✅\n",
      "length: 29, run_time: 2.7221562399790855\n",
      "graph: 11.txt, solver: kalp() ... ham!\n",
      "✅\n",
      "length: 29, run_time: 3.617872122937115\n",
      "graph: 12.txt, solver: kalp() ... ham!\n",
      "✅\n",
      "length: 29, run_time: 0.059853530998225324\n",
      "graph: 13.txt, solver: kalp() ... ham!\n",
      "✅\n",
      "length: 29, run_time: 0.005824719002703205\n",
      "graph: 14.txt, solver: kalp() ... ham!\n",
      "✅\n",
      "length: 29, run_time: 0.3226384810113814\n",
      "graph: 15.txt, solver: kalp() ... ham!\n",
      "✅\n",
      "length: 29, run_time: 0.4437921630014898\n",
      "graph: 16.txt, solver: kalp() ... ham!\n",
      "✅\n",
      "length: 29, run_time: 0.0385215300048003\n",
      "graph: 17.txt, solver: kalp() ... ham!\n",
      "✅\n",
      "length: 29, run_time: 0.32130037499882746\n",
      "graph: 18.txt, solver: kalp() ... ❌ (timeout)\n",
      "graph: 19.txt, solver: kalp() ... ham!\n",
      "✅\n",
      "length: 29, run_time: 0.22775770699081477\n",
      "graph: 20.txt, solver: kalp() ... ❌ (timeout)\n",
      "graph: 21.txt, solver: kalp() ... ❌ (timeout)\n",
      "graph: 22.txt, solver: kalp() ... ❌ (timeout)\n",
      "graph: 23.txt, solver: kalp() ... ham!\n",
      "✅\n",
      "length: 29, run_time: 5.269301800988615\n",
      "graph: 24.txt, solver: kalp() ... ham!\n",
      "✅\n",
      "length: 29, run_time: 3.9777879110042704\n",
      "graph: 25.txt, solver: kalp() ... ❌ (timeout)\n",
      "graph: 26.txt, solver: kalp() ... ❌ (timeout)\n",
      "graph: 27.txt, solver: kalp() ... ❌ (timeout)\n",
      "graph: 28.txt, solver: kalp() ... ❌ (timeout)\n",
      "graph: 29.txt, solver: kalp() ... ❌ (timeout)\n",
      "graph: 30.txt, solver: kalp() ... ❌ (timeout)\n",
      "graph: 31.txt, solver: kalp() ... ❌ (timeout)\n",
      "graph: 32.txt, solver: kalp() ... ❌ (timeout)\n",
      "graph: 33.txt, solver: kalp() ... ❌ (timeout)\n",
      "graph: 34.txt, solver: kalp() ... ❌ (timeout)\n",
      "graph: 35.txt, solver: kalp() ... ❌ (timeout)\n"
     ]
    },
    {
     "ename": "SystemExit",
     "evalue": "130",
     "output_type": "error",
     "traceback": [
      "An exception has occurred, use %tb to see the full traceback.\n",
      "\u001b[0;31mSystemExit\u001b[0m\u001b[0;31m:\u001b[0m 130\n"
     ]
    },
    {
     "name": "stderr",
     "output_type": "stream",
     "text": [
      "/home/rob/.pyenv/versions/3.10.13/lib/python3.10/site-packages/IPython/core/interactiveshell.py:3558: UserWarning: To exit: use 'exit', 'quit', or Ctrl-D.\n",
      "  warn(\"To exit: use 'exit', 'quit', or Ctrl-D.\", stacklevel=1)\n"
     ]
    }
   ],
   "source": [
    "benchmark.run(retryFailures=True, timeout=5)\n"
   ]
  },
  {
   "cell_type": "code",
   "execution_count": 44,
   "metadata": {},
   "outputs": [
    {
     "data": {
      "text/html": [
       "<div>\n",
       "<style scoped>\n",
       "    .dataframe tbody tr th:only-of-type {\n",
       "        vertical-align: middle;\n",
       "    }\n",
       "\n",
       "    .dataframe tbody tr th {\n",
       "        vertical-align: top;\n",
       "    }\n",
       "\n",
       "    .dataframe thead th {\n",
       "        text-align: right;\n",
       "    }\n",
       "</style>\n",
       "<table border=\"1\" class=\"dataframe\">\n",
       "  <thead>\n",
       "    <tr style=\"text-align: right;\">\n",
       "      <th></th>\n",
       "      <th>path</th>\n",
       "      <th>run_time</th>\n",
       "      <th>length</th>\n",
       "      <th>solver</th>\n",
       "      <th>graph_id</th>\n",
       "      <th>failure</th>\n",
       "      <th>solver_name</th>\n",
       "      <th>vertices</th>\n",
       "      <th>edges</th>\n",
       "      <th>average_out_degree</th>\n",
       "    </tr>\n",
       "  </thead>\n",
       "  <tbody>\n",
       "    <tr>\n",
       "      <th>0</th>\n",
       "      <td>[0, 2, 3, 4, 5, 6, 7, 8, 9, 1]</td>\n",
       "      <td>0.009039</td>\n",
       "      <td>9.0</td>\n",
       "      <td>0</td>\n",
       "      <td>0</td>\n",
       "      <td>NaN</td>\n",
       "      <td>kalp()</td>\n",
       "      <td>10</td>\n",
       "      <td>80</td>\n",
       "      <td>8.0</td>\n",
       "    </tr>\n",
       "    <tr>\n",
       "      <th>1</th>\n",
       "      <td>[0, 2, 3, 4, 5, 6, 7, 8, 9, 1]</td>\n",
       "      <td>0.010531</td>\n",
       "      <td>9.0</td>\n",
       "      <td>0</td>\n",
       "      <td>1</td>\n",
       "      <td>NaN</td>\n",
       "      <td>kalp()</td>\n",
       "      <td>10</td>\n",
       "      <td>80</td>\n",
       "      <td>8.0</td>\n",
       "    </tr>\n",
       "    <tr>\n",
       "      <th>2</th>\n",
       "      <td>[0, 2, 3, 4, 5, 6, 7, 8, 9, 1]</td>\n",
       "      <td>0.007953</td>\n",
       "      <td>9.0</td>\n",
       "      <td>0</td>\n",
       "      <td>2</td>\n",
       "      <td>NaN</td>\n",
       "      <td>kalp()</td>\n",
       "      <td>10</td>\n",
       "      <td>80</td>\n",
       "      <td>8.0</td>\n",
       "    </tr>\n",
       "    <tr>\n",
       "      <th>3</th>\n",
       "      <td>[0, 2, 3, 4, 5, 6, 7, 8, 9, 1]</td>\n",
       "      <td>0.006585</td>\n",
       "      <td>9.0</td>\n",
       "      <td>0</td>\n",
       "      <td>3</td>\n",
       "      <td>NaN</td>\n",
       "      <td>kalp()</td>\n",
       "      <td>10</td>\n",
       "      <td>80</td>\n",
       "      <td>8.0</td>\n",
       "    </tr>\n",
       "    <tr>\n",
       "      <th>4</th>\n",
       "      <td>[0, 2, 3, 4, 5, 6, 7, 8, 9, 1]</td>\n",
       "      <td>0.008789</td>\n",
       "      <td>9.0</td>\n",
       "      <td>0</td>\n",
       "      <td>4</td>\n",
       "      <td>NaN</td>\n",
       "      <td>kalp()</td>\n",
       "      <td>10</td>\n",
       "      <td>80</td>\n",
       "      <td>8.0</td>\n",
       "    </tr>\n",
       "  </tbody>\n",
       "</table>\n",
       "</div>"
      ],
      "text/plain": [
       "                             path  run_time  length  solver graph_id failure  \\\n",
       "0  [0, 2, 3, 4, 5, 6, 7, 8, 9, 1]  0.009039     9.0       0        0     NaN   \n",
       "1  [0, 2, 3, 4, 5, 6, 7, 8, 9, 1]  0.010531     9.0       0        1     NaN   \n",
       "2  [0, 2, 3, 4, 5, 6, 7, 8, 9, 1]  0.007953     9.0       0        2     NaN   \n",
       "3  [0, 2, 3, 4, 5, 6, 7, 8, 9, 1]  0.006585     9.0       0        3     NaN   \n",
       "4  [0, 2, 3, 4, 5, 6, 7, 8, 9, 1]  0.008789     9.0       0        4     NaN   \n",
       "\n",
       "  solver_name  vertices  edges  average_out_degree  \n",
       "0      kalp()        10     80                 8.0  \n",
       "1      kalp()        10     80                 8.0  \n",
       "2      kalp()        10     80                 8.0  \n",
       "3      kalp()        10     80                 8.0  \n",
       "4      kalp()        10     80                 8.0  "
      ]
     },
     "execution_count": 44,
     "metadata": {},
     "output_type": "execute_result"
    }
   ],
   "source": [
    "df_ = benchmark.get_dataframe()\n",
    "if not \"failure\" in df_:\n",
    "    df_[\"failure\"] = None\n",
    "df = df_\n",
    "df.head()"
   ]
  },
  {
   "cell_type": "code",
   "execution_count": 45,
   "metadata": {},
   "outputs": [
    {
     "data": {
      "text/plain": [
       "run_time    Axes(0.125,0.11;0.775x0.77)\n",
       "dtype: object"
      ]
     },
     "execution_count": 45,
     "metadata": {},
     "output_type": "execute_result"
    },
    {
     "data": {
      "image/png": "[encoded data removed]",
      "text/plain": [
       "<Figure size 640x480 with 1 Axes>"
      ]
     },
     "metadata": {},
     "output_type": "display_data"
    }
   ],
   "source": [
    "df[df[\"solver\"] == 0][[\"run_time\", \"vertices\"]].plot.box(by=\"vertices\", logy=True)\n"
   ]
  },
  {
   "cell_type": "code",
   "execution_count": 46,
   "metadata": {},
   "outputs": [],
   "source": [
    "df_grouped = df.groupby(['vertices', 'solver', 'solver_name']).agg({\"run_time\": \"median\", \"failure\": \"any\"}).reset_index()\n",
    "df_grouped_failures_removed = df_grouped[df_grouped[\"failure\"] == False]\n",
    "to_plot = df_grouped_failures_removed.pivot(index='vertices', columns='solver_name', values='run_time').rename(columns=lambda x: x + \" (average)\")"
   ]
  },
  {
   "cell_type": "code",
   "execution_count": 47,
   "metadata": {},
   "outputs": [
    {
     "data": {
      "text/html": [
       "<div>\n",
       "<style scoped>\n",
       "    .dataframe tbody tr th:only-of-type {\n",
       "        vertical-align: middle;\n",
       "    }\n",
       "\n",
       "    .dataframe tbody tr th {\n",
       "        vertical-align: top;\n",
       "    }\n",
       "\n",
       "    .dataframe thead th {\n",
       "        text-align: right;\n",
       "    }\n",
       "</style>\n",
       "<table border=\"1\" class=\"dataframe\">\n",
       "  <thead>\n",
       "    <tr style=\"text-align: right;\">\n",
       "      <th></th>\n",
       "      <th>solver_name</th>\n",
       "      <th>count</th>\n",
       "    </tr>\n",
       "  </thead>\n",
       "  <tbody>\n",
       "    <tr>\n",
       "      <th>0</th>\n",
       "      <td>kalp()</td>\n",
       "      <td>4</td>\n",
       "    </tr>\n",
       "  </tbody>\n",
       "</table>\n",
       "</div>"
      ],
      "text/plain": [
       "  solver_name  count\n",
       "0      kalp()      4"
      ]
     },
     "execution_count": 47,
     "metadata": {},
     "output_type": "execute_result"
    }
   ],
   "source": [
    "df_grouped_failures_removed.groupby([\"solver_name\"]).agg({\"failure\": \"count\"}).reset_index().rename(columns={\"failure\": \"count\"})"
   ]
  },
  {
   "cell_type": "code",
   "execution_count": 48,
   "metadata": {},
   "outputs": [
    {
     "data": {
      "text/html": [
       "<div>\n",
       "<style scoped>\n",
       "    .dataframe tbody tr th:only-of-type {\n",
       "        vertical-align: middle;\n",
       "    }\n",
       "\n",
       "    .dataframe tbody tr th {\n",
       "        vertical-align: top;\n",
       "    }\n",
       "\n",
       "    .dataframe thead th {\n",
       "        text-align: right;\n",
       "    }\n",
       "</style>\n",
       "<table border=\"1\" class=\"dataframe\">\n",
       "  <thead>\n",
       "    <tr style=\"text-align: right;\">\n",
       "      <th></th>\n",
       "      <th>vertices</th>\n",
       "      <th>solver</th>\n",
       "      <th>solver_name</th>\n",
       "      <th>run_time</th>\n",
       "      <th>failure</th>\n",
       "    </tr>\n",
       "  </thead>\n",
       "  <tbody>\n",
       "    <tr>\n",
       "      <th>0</th>\n",
       "      <td>10</td>\n",
       "      <td>0</td>\n",
       "      <td>kalp()</td>\n",
       "      <td>0.008789</td>\n",
       "      <td>False</td>\n",
       "    </tr>\n",
       "    <tr>\n",
       "      <th>1</th>\n",
       "      <td>12</td>\n",
       "      <td>0</td>\n",
       "      <td>kalp()</td>\n",
       "      <td>0.043127</td>\n",
       "      <td>False</td>\n",
       "    </tr>\n",
       "    <tr>\n",
       "      <th>2</th>\n",
       "      <td>14</td>\n",
       "      <td>0</td>\n",
       "      <td>kalp()</td>\n",
       "      <td>0.186873</td>\n",
       "      <td>False</td>\n",
       "    </tr>\n",
       "    <tr>\n",
       "      <th>3</th>\n",
       "      <td>17</td>\n",
       "      <td>0</td>\n",
       "      <td>kalp()</td>\n",
       "      <td>1.424587</td>\n",
       "      <td>False</td>\n",
       "    </tr>\n",
       "  </tbody>\n",
       "</table>\n",
       "</div>"
      ],
      "text/plain": [
       "   vertices  solver solver_name  run_time  failure\n",
       "0        10       0      kalp()  0.008789    False\n",
       "1        12       0      kalp()  0.043127    False\n",
       "2        14       0      kalp()  0.186873    False\n",
       "3        17       0      kalp()  1.424587    False"
      ]
     },
     "execution_count": 48,
     "metadata": {},
     "output_type": "execute_result"
    }
   ],
   "source": [
    "df_grouped_failures_removed.head()"
   ]
  },
  {
   "cell_type": "code",
   "execution_count": 49,
   "metadata": {},
   "outputs": [
    {
     "data": {
      "text/html": [
       "<div>\n",
       "<style scoped>\n",
       "    .dataframe tbody tr th:only-of-type {\n",
       "        vertical-align: middle;\n",
       "    }\n",
       "\n",
       "    .dataframe tbody tr th {\n",
       "        vertical-align: top;\n",
       "    }\n",
       "\n",
       "    .dataframe thead th {\n",
       "        text-align: right;\n",
       "    }\n",
       "</style>\n",
       "<table border=\"1\" class=\"dataframe\">\n",
       "  <thead>\n",
       "    <tr style=\"text-align: right;\">\n",
       "      <th>solver_name</th>\n",
       "      <th>kalp() (average)</th>\n",
       "    </tr>\n",
       "    <tr>\n",
       "      <th>vertices</th>\n",
       "      <th></th>\n",
       "    </tr>\n",
       "  </thead>\n",
       "  <tbody>\n",
       "    <tr>\n",
       "      <th>10</th>\n",
       "      <td>0.008789</td>\n",
       "    </tr>\n",
       "    <tr>\n",
       "      <th>12</th>\n",
       "      <td>0.043127</td>\n",
       "    </tr>\n",
       "    <tr>\n",
       "      <th>14</th>\n",
       "      <td>0.186873</td>\n",
       "    </tr>\n",
       "    <tr>\n",
       "      <th>17</th>\n",
       "      <td>1.424587</td>\n",
       "    </tr>\n",
       "  </tbody>\n",
       "</table>\n",
       "</div>"
      ],
      "text/plain": [
       "solver_name  kalp() (average)\n",
       "vertices                     \n",
       "10                   0.008789\n",
       "12                   0.043127\n",
       "14                   0.186873\n",
       "17                   1.424587"
      ]
     },
     "execution_count": 49,
     "metadata": {},
     "output_type": "execute_result"
    }
   ],
   "source": [
    "to_plot\n"
   ]
  },
  {
   "cell_type": "code",
   "execution_count": 50,
   "metadata": {},
   "outputs": [
    {
     "data": {
      "image/png": "[encoded data removed]",
      "text/plain": [
       "<Figure size 800x600 with 1 Axes>"
      ]
     },
     "metadata": {},
     "output_type": "display_data"
    }
   ],
   "source": [
    "view = df[['vertices', 'solver_name','length', 'run_time']]\n",
    "\n",
    "# to_plot = df.groupby(['average_out_degree', 'solver', 'solver_name']).agg({'run_time': 'mean'}).reset_index() \\\n",
    "#     .pivot(index='average_out_degree', columns='solver_name', values='run_time') \\\n",
    "#     .rename(columns=lambda x: x + \" (average)\");\n",
    "\n",
    "to_plot.plot(style=\"o-\")\n",
    "\n",
    "for solver_name in benchmark.solver_names():\n",
    "    solver_df = df[df[\"solver_name\"] == solver_name]  # Select rows where run-time is not null\n",
    "    plt.scatter(solver_df['vertices'], solver_df['run_time'], label=solver_name, alpha=0.5, s=10)\n",
    "\n",
    "plt.yscale('log')\n",
    "# plt.xticks(np.arange(1, 4.0, 0.5))\n",
    "plt.ylabel(\"run-time (seconds)\")\n",
    "plt.xlabel(\"Vertices\")\n",
    "# plt.title(\"Longest path solve-time for random directed graphs with 50 vertices\")\n",
    "# plt.axhline(y=0.015, color='black', linestyle='--', label='run-time cutoff', linewidth=1, alpha=0.5, zorder=0)\n",
    "plt.legend(loc='center left', bbox_to_anchor=(1, 0.5))\n",
    "# df[df[\"solver\"] == 0].plot(x = \"average_degree\", y=\"run_time\", style=\"--bo\", label=\"solver_name\")\n",
    "# df[df[\"solver\"] == 1].plot(x = \"average_degree\", y=\"run_time\", style=\"--bo\", label=\"solver_name\")\n",
    "# plt.ylim(0, to_plot.max().max())\n",
    "# plt.ylim(0, 0.001)\n",
    "\n",
    "plt.gcf().set_size_inches(8, 6)\n",
    "plt.savefig(os.path.join(benchmark.benchmark_path, \"plot.png\"), dpi=400, bbox_inches='tight')"
   ]
  }
 ],
 "metadata": {
  "kernelspec": {
   "display_name": "tno-env",
   "language": "python",
   "name": "python3"
  },
  "language_info": {
   "codemirror_mode": {
    "name": "ipython",
    "version": 3
   },
   "file_extension": ".py",
   "mimetype": "text/x-python",
   "name": "python",
   "nbconvert_exporter": "python",
   "pygments_lexer": "ipython3",
   "version": "3.10.13"
  }
 },
 "nbformat": 4,
 "nbformat_minor": 2
}
